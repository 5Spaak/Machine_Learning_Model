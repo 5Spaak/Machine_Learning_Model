{
  "nbformat": 4,
  "nbformat_minor": 0,
  "metadata": {
    "colab": {
      "provenance": [],
      "authorship_tag": "ABX9TyMkFOaOtx6+ti09RLZ+V+rJ",
      "include_colab_link": true
    },
    "kernelspec": {
      "name": "python3",
      "display_name": "Python 3"
    },
    "language_info": {
      "name": "python"
    }
  },
  "cells": [
    {
      "cell_type": "markdown",
      "metadata": {
        "id": "view-in-github",
        "colab_type": "text"
      },
      "source": [
        "<a href=\"https://colab.research.google.com/github/5Spaak/Machine_Learning_Model/blob/main/Machine_Learning_Model_to_predict_Wine_and_figure_out_the_most_important_features_for_wine_quality_quality.ipynb\" target=\"_parent\"><img src=\"https://colab.research.google.com/assets/colab-badge.svg\" alt=\"Open In Colab\"/></a>"
      ]
    },
    {
      "cell_type": "code",
      "execution_count": null,
      "metadata": {
        "id": "gKG-kwFfJCqx"
      },
      "outputs": [],
      "source": []
    },
    {
      "cell_type": "markdown",
      "source": [
        "# **Projet : Modèle de Machine Leaning pour predire la qualité du vin**"
      ],
      "metadata": {
        "id": "fC7dVEDAJUT3"
      }
    },
    {
      "cell_type": "markdown",
      "source": [
        "## Comprehension de la problématique"
      ],
      "metadata": {
        "id": "sx5tgguoJz6_"
      }
    },
    {
      "cell_type": "markdown",
      "source": [
        "\n",
        "\n",
        "* La production du vin : Cela constitue une affaire d'argent et peut également être une affaire de dette pour ceux qui veulent s'y lancer\n",
        "*   Si vous ne faites pas bien ce business, vous risquez de perdre tout votre argent si votre vin n'est pas de bonne qualité.\n",
        "\n",
        "Comment améliorer d'une part la certification du vin en utilisant une approche beaucoup plus scientifique qu'une simple serie de test par les experts, ce qui peut être raisonnable et produire des resuktats satisfaisante. Mais toutefois, il y a des contraintes qui peuvent également bruité des résultats en adoptant cette approche par test pour évaluer la qualité d'un vin.\n",
        "\n",
        "Pour mieux aider les producteurs de vin à évaluer la qualité de laeur vin, nous pouvons utiliser des approches beaucoup plus scientifique, celle du machine learning afin de les aider à améloirer leur chiffre d'affaire.\n",
        "\n",
        "\n",
        "\n",
        "* Data Mining et Machine Learning\n",
        "\n",
        "En utilisant des techniques de Data Mining sur les données physico-chimiques, on pourra extraire de là des inforations utile permetteant de comprendre la relation entre les paramètres physici-chimiques du vin et sa qualité.\n",
        "\n",
        "Dans ce projet, nous allons construire un modèle de Machine Learning capable, à partir des paramètres physico-chimiques, de prédire la qualité du vin. L'objectif est de trouver des attributs necessaire pour fabriquer du vin de qualité afin d'aider les producteurs dans ce processus de fabrication.\n",
        "\n",
        "\n",
        "\n",
        "\n"
      ],
      "metadata": {
        "id": "_t80eLqiJ78Z"
      }
    },
    {
      "cell_type": "markdown",
      "source": [
        "Pour faire ce projet, nous allons suivre des étapes suivantes :\n",
        "\n",
        "\n",
        "  **1.   Compréhension de la problèmatique Busines**\n",
        "\n",
        "  **2.   Collecte des données**\n",
        "\n",
        "  **3.   Analyse exploratiore**\n",
        "\n",
        "  **4.   Prétraitement des données**\n",
        "\n",
        "  **5.   Modélisation**\n",
        "\n",
        "  **6.   Résultats et conclusion**\n",
        "\n"
      ],
      "metadata": {
        "id": "6hhP_4KXNLDN"
      }
    },
    {
      "cell_type": "markdown",
      "source": [
        "### Librairies"
      ],
      "metadata": {
        "id": "ijZwhMPxOP-4"
      }
    },
    {
      "cell_type": "code",
      "source": [
        "import pandas as pd\n",
        "import numpy as np\n",
        "import matplotlib.pyplot as plt\n",
        "import seaborn as sns\n",
        "\n",
        "from sklearn.model_selection import cross_val_score\n",
        "from sklearn.model_selection import StratifiedKFold\n",
        "from sklearn.linear_model import LinearRegression\n",
        "from sklearn.svm import SVR\n",
        "from sklearn.ensemble import RandomForestRegressor\n",
        "from sklearn.preprocessing import StandardScaler\n",
        "from sklearn.metrics import mean_squared_error"
      ],
      "metadata": {
        "id": "XqeSWHhlJfUv"
      },
      "execution_count": 2,
      "outputs": []
    },
    {
      "cell_type": "markdown",
      "source": [
        "### Importation des données\n",
        "\n",
        "Les variable indépendantes (basées sur des tests physico-chimiques) sont :\n",
        "\n",
        "\n",
        "*  1 - fixed acidity\n",
        "*  2 - volatile acidity\n",
        "*  3 - citric acid\n",
        "*  4 - residual sugar\n",
        "*  5 - chlorides\n",
        "*  6 - free sulfur dioxide\n",
        "*  7 - total sulfur dioxide\n",
        "*  8 - density\n",
        "*  9 - pH\n",
        "*  10 - sulphates\n",
        "*  11 - alcohol\n",
        "\n",
        "La variable dépendante ou variable d'interête (basé sur des données sensorielles) est :\n",
        "\n",
        "*  12 - quality (score between 0 and 10)\n",
        "\n",
        "\n"
      ],
      "metadata": {
        "id": "7Fq5WlIjRx-n"
      }
    },
    {
      "cell_type": "code",
      "source": [
        "red = pd.read_csv(\n",
        "    \"https://archive.ics.uci.edu/ml/machine-learning-databases/wine-quality/winequality-red.csv\",\n",
        "    sep=\";\"\n",
        ")\n",
        "\n",
        "white = pd.read_csv(\n",
        "    \"https://archive.ics.uci.edu/ml/machine-learning-databases/wine-quality/winequality-white.csv\",\n",
        "    sep=\";\"\n",
        ")"
      ],
      "metadata": {
        "id": "sfdrdrBDPZcy"
      },
      "execution_count": 3,
      "outputs": []
    },
    {
      "cell_type": "code",
      "source": [
        "red.head()"
      ],
      "metadata": {
        "colab": {
          "base_uri": "https://localhost:8080/",
          "height": 305
        },
        "id": "cMieCsaNTGUd",
        "outputId": "3b1b14da-6b19-4c38-b0fe-f1b7d1215dc6"
      },
      "execution_count": 4,
      "outputs": [
        {
          "output_type": "execute_result",
          "data": {
            "text/plain": [
              "   fixed acidity  volatile acidity  citric acid  residual sugar  chlorides  \\\n",
              "0            7.4              0.70         0.00             1.9      0.076   \n",
              "1            7.8              0.88         0.00             2.6      0.098   \n",
              "2            7.8              0.76         0.04             2.3      0.092   \n",
              "3           11.2              0.28         0.56             1.9      0.075   \n",
              "4            7.4              0.70         0.00             1.9      0.076   \n",
              "\n",
              "   free sulfur dioxide  total sulfur dioxide  density    pH  sulphates  \\\n",
              "0                 11.0                  34.0   0.9978  3.51       0.56   \n",
              "1                 25.0                  67.0   0.9968  3.20       0.68   \n",
              "2                 15.0                  54.0   0.9970  3.26       0.65   \n",
              "3                 17.0                  60.0   0.9980  3.16       0.58   \n",
              "4                 11.0                  34.0   0.9978  3.51       0.56   \n",
              "\n",
              "   alcohol  quality  \n",
              "0      9.4        5  \n",
              "1      9.8        5  \n",
              "2      9.8        5  \n",
              "3      9.8        6  \n",
              "4      9.4        5  "
            ],
            "text/html": [
              "\n",
              "  <div id=\"df-beff26fd-d4a3-42d8-8f0b-99d9cc0b9289\">\n",
              "    <div class=\"colab-df-container\">\n",
              "      <div>\n",
              "<style scoped>\n",
              "    .dataframe tbody tr th:only-of-type {\n",
              "        vertical-align: middle;\n",
              "    }\n",
              "\n",
              "    .dataframe tbody tr th {\n",
              "        vertical-align: top;\n",
              "    }\n",
              "\n",
              "    .dataframe thead th {\n",
              "        text-align: right;\n",
              "    }\n",
              "</style>\n",
              "<table border=\"1\" class=\"dataframe\">\n",
              "  <thead>\n",
              "    <tr style=\"text-align: right;\">\n",
              "      <th></th>\n",
              "      <th>fixed acidity</th>\n",
              "      <th>volatile acidity</th>\n",
              "      <th>citric acid</th>\n",
              "      <th>residual sugar</th>\n",
              "      <th>chlorides</th>\n",
              "      <th>free sulfur dioxide</th>\n",
              "      <th>total sulfur dioxide</th>\n",
              "      <th>density</th>\n",
              "      <th>pH</th>\n",
              "      <th>sulphates</th>\n",
              "      <th>alcohol</th>\n",
              "      <th>quality</th>\n",
              "    </tr>\n",
              "  </thead>\n",
              "  <tbody>\n",
              "    <tr>\n",
              "      <th>0</th>\n",
              "      <td>7.4</td>\n",
              "      <td>0.70</td>\n",
              "      <td>0.00</td>\n",
              "      <td>1.9</td>\n",
              "      <td>0.076</td>\n",
              "      <td>11.0</td>\n",
              "      <td>34.0</td>\n",
              "      <td>0.9978</td>\n",
              "      <td>3.51</td>\n",
              "      <td>0.56</td>\n",
              "      <td>9.4</td>\n",
              "      <td>5</td>\n",
              "    </tr>\n",
              "    <tr>\n",
              "      <th>1</th>\n",
              "      <td>7.8</td>\n",
              "      <td>0.88</td>\n",
              "      <td>0.00</td>\n",
              "      <td>2.6</td>\n",
              "      <td>0.098</td>\n",
              "      <td>25.0</td>\n",
              "      <td>67.0</td>\n",
              "      <td>0.9968</td>\n",
              "      <td>3.20</td>\n",
              "      <td>0.68</td>\n",
              "      <td>9.8</td>\n",
              "      <td>5</td>\n",
              "    </tr>\n",
              "    <tr>\n",
              "      <th>2</th>\n",
              "      <td>7.8</td>\n",
              "      <td>0.76</td>\n",
              "      <td>0.04</td>\n",
              "      <td>2.3</td>\n",
              "      <td>0.092</td>\n",
              "      <td>15.0</td>\n",
              "      <td>54.0</td>\n",
              "      <td>0.9970</td>\n",
              "      <td>3.26</td>\n",
              "      <td>0.65</td>\n",
              "      <td>9.8</td>\n",
              "      <td>5</td>\n",
              "    </tr>\n",
              "    <tr>\n",
              "      <th>3</th>\n",
              "      <td>11.2</td>\n",
              "      <td>0.28</td>\n",
              "      <td>0.56</td>\n",
              "      <td>1.9</td>\n",
              "      <td>0.075</td>\n",
              "      <td>17.0</td>\n",
              "      <td>60.0</td>\n",
              "      <td>0.9980</td>\n",
              "      <td>3.16</td>\n",
              "      <td>0.58</td>\n",
              "      <td>9.8</td>\n",
              "      <td>6</td>\n",
              "    </tr>\n",
              "    <tr>\n",
              "      <th>4</th>\n",
              "      <td>7.4</td>\n",
              "      <td>0.70</td>\n",
              "      <td>0.00</td>\n",
              "      <td>1.9</td>\n",
              "      <td>0.076</td>\n",
              "      <td>11.0</td>\n",
              "      <td>34.0</td>\n",
              "      <td>0.9978</td>\n",
              "      <td>3.51</td>\n",
              "      <td>0.56</td>\n",
              "      <td>9.4</td>\n",
              "      <td>5</td>\n",
              "    </tr>\n",
              "  </tbody>\n",
              "</table>\n",
              "</div>\n",
              "      <button class=\"colab-df-convert\" onclick=\"convertToInteractive('df-beff26fd-d4a3-42d8-8f0b-99d9cc0b9289')\"\n",
              "              title=\"Convert this dataframe to an interactive table.\"\n",
              "              style=\"display:none;\">\n",
              "        \n",
              "  <svg xmlns=\"http://www.w3.org/2000/svg\" height=\"24px\"viewBox=\"0 0 24 24\"\n",
              "       width=\"24px\">\n",
              "    <path d=\"M0 0h24v24H0V0z\" fill=\"none\"/>\n",
              "    <path d=\"M18.56 5.44l.94 2.06.94-2.06 2.06-.94-2.06-.94-.94-2.06-.94 2.06-2.06.94zm-11 1L8.5 8.5l.94-2.06 2.06-.94-2.06-.94L8.5 2.5l-.94 2.06-2.06.94zm10 10l.94 2.06.94-2.06 2.06-.94-2.06-.94-.94-2.06-.94 2.06-2.06.94z\"/><path d=\"M17.41 7.96l-1.37-1.37c-.4-.4-.92-.59-1.43-.59-.52 0-1.04.2-1.43.59L10.3 9.45l-7.72 7.72c-.78.78-.78 2.05 0 2.83L4 21.41c.39.39.9.59 1.41.59.51 0 1.02-.2 1.41-.59l7.78-7.78 2.81-2.81c.8-.78.8-2.07 0-2.86zM5.41 20L4 18.59l7.72-7.72 1.47 1.35L5.41 20z\"/>\n",
              "  </svg>\n",
              "      </button>\n",
              "      \n",
              "  <style>\n",
              "    .colab-df-container {\n",
              "      display:flex;\n",
              "      flex-wrap:wrap;\n",
              "      gap: 12px;\n",
              "    }\n",
              "\n",
              "    .colab-df-convert {\n",
              "      background-color: #E8F0FE;\n",
              "      border: none;\n",
              "      border-radius: 50%;\n",
              "      cursor: pointer;\n",
              "      display: none;\n",
              "      fill: #1967D2;\n",
              "      height: 32px;\n",
              "      padding: 0 0 0 0;\n",
              "      width: 32px;\n",
              "    }\n",
              "\n",
              "    .colab-df-convert:hover {\n",
              "      background-color: #E2EBFA;\n",
              "      box-shadow: 0px 1px 2px rgba(60, 64, 67, 0.3), 0px 1px 3px 1px rgba(60, 64, 67, 0.15);\n",
              "      fill: #174EA6;\n",
              "    }\n",
              "\n",
              "    [theme=dark] .colab-df-convert {\n",
              "      background-color: #3B4455;\n",
              "      fill: #D2E3FC;\n",
              "    }\n",
              "\n",
              "    [theme=dark] .colab-df-convert:hover {\n",
              "      background-color: #434B5C;\n",
              "      box-shadow: 0px 1px 3px 1px rgba(0, 0, 0, 0.15);\n",
              "      filter: drop-shadow(0px 1px 2px rgba(0, 0, 0, 0.3));\n",
              "      fill: #FFFFFF;\n",
              "    }\n",
              "  </style>\n",
              "\n",
              "      <script>\n",
              "        const buttonEl =\n",
              "          document.querySelector('#df-beff26fd-d4a3-42d8-8f0b-99d9cc0b9289 button.colab-df-convert');\n",
              "        buttonEl.style.display =\n",
              "          google.colab.kernel.accessAllowed ? 'block' : 'none';\n",
              "\n",
              "        async function convertToInteractive(key) {\n",
              "          const element = document.querySelector('#df-beff26fd-d4a3-42d8-8f0b-99d9cc0b9289');\n",
              "          const dataTable =\n",
              "            await google.colab.kernel.invokeFunction('convertToInteractive',\n",
              "                                                     [key], {});\n",
              "          if (!dataTable) return;\n",
              "\n",
              "          const docLinkHtml = 'Like what you see? Visit the ' +\n",
              "            '<a target=\"_blank\" href=https://colab.research.google.com/notebooks/data_table.ipynb>data table notebook</a>'\n",
              "            + ' to learn more about interactive tables.';\n",
              "          element.innerHTML = '';\n",
              "          dataTable['output_type'] = 'display_data';\n",
              "          await google.colab.output.renderOutput(dataTable, element);\n",
              "          const docLink = document.createElement('div');\n",
              "          docLink.innerHTML = docLinkHtml;\n",
              "          element.appendChild(docLink);\n",
              "        }\n",
              "      </script>\n",
              "    </div>\n",
              "  </div>\n",
              "  "
            ]
          },
          "metadata": {},
          "execution_count": 4
        }
      ]
    },
    {
      "cell_type": "code",
      "source": [
        "white.head()"
      ],
      "metadata": {
        "colab": {
          "base_uri": "https://localhost:8080/",
          "height": 305
        },
        "id": "-WsGPhFtTIX7",
        "outputId": "440d94d6-cce6-47c9-b608-f27b632b4fc2"
      },
      "execution_count": 5,
      "outputs": [
        {
          "output_type": "execute_result",
          "data": {
            "text/plain": [
              "   fixed acidity  volatile acidity  citric acid  residual sugar  chlorides  \\\n",
              "0            7.0              0.27         0.36            20.7      0.045   \n",
              "1            6.3              0.30         0.34             1.6      0.049   \n",
              "2            8.1              0.28         0.40             6.9      0.050   \n",
              "3            7.2              0.23         0.32             8.5      0.058   \n",
              "4            7.2              0.23         0.32             8.5      0.058   \n",
              "\n",
              "   free sulfur dioxide  total sulfur dioxide  density    pH  sulphates  \\\n",
              "0                 45.0                 170.0   1.0010  3.00       0.45   \n",
              "1                 14.0                 132.0   0.9940  3.30       0.49   \n",
              "2                 30.0                  97.0   0.9951  3.26       0.44   \n",
              "3                 47.0                 186.0   0.9956  3.19       0.40   \n",
              "4                 47.0                 186.0   0.9956  3.19       0.40   \n",
              "\n",
              "   alcohol  quality  \n",
              "0      8.8        6  \n",
              "1      9.5        6  \n",
              "2     10.1        6  \n",
              "3      9.9        6  \n",
              "4      9.9        6  "
            ],
            "text/html": [
              "\n",
              "  <div id=\"df-fbe0c03f-52f2-43ef-9d71-c0f19f99599d\">\n",
              "    <div class=\"colab-df-container\">\n",
              "      <div>\n",
              "<style scoped>\n",
              "    .dataframe tbody tr th:only-of-type {\n",
              "        vertical-align: middle;\n",
              "    }\n",
              "\n",
              "    .dataframe tbody tr th {\n",
              "        vertical-align: top;\n",
              "    }\n",
              "\n",
              "    .dataframe thead th {\n",
              "        text-align: right;\n",
              "    }\n",
              "</style>\n",
              "<table border=\"1\" class=\"dataframe\">\n",
              "  <thead>\n",
              "    <tr style=\"text-align: right;\">\n",
              "      <th></th>\n",
              "      <th>fixed acidity</th>\n",
              "      <th>volatile acidity</th>\n",
              "      <th>citric acid</th>\n",
              "      <th>residual sugar</th>\n",
              "      <th>chlorides</th>\n",
              "      <th>free sulfur dioxide</th>\n",
              "      <th>total sulfur dioxide</th>\n",
              "      <th>density</th>\n",
              "      <th>pH</th>\n",
              "      <th>sulphates</th>\n",
              "      <th>alcohol</th>\n",
              "      <th>quality</th>\n",
              "    </tr>\n",
              "  </thead>\n",
              "  <tbody>\n",
              "    <tr>\n",
              "      <th>0</th>\n",
              "      <td>7.0</td>\n",
              "      <td>0.27</td>\n",
              "      <td>0.36</td>\n",
              "      <td>20.7</td>\n",
              "      <td>0.045</td>\n",
              "      <td>45.0</td>\n",
              "      <td>170.0</td>\n",
              "      <td>1.0010</td>\n",
              "      <td>3.00</td>\n",
              "      <td>0.45</td>\n",
              "      <td>8.8</td>\n",
              "      <td>6</td>\n",
              "    </tr>\n",
              "    <tr>\n",
              "      <th>1</th>\n",
              "      <td>6.3</td>\n",
              "      <td>0.30</td>\n",
              "      <td>0.34</td>\n",
              "      <td>1.6</td>\n",
              "      <td>0.049</td>\n",
              "      <td>14.0</td>\n",
              "      <td>132.0</td>\n",
              "      <td>0.9940</td>\n",
              "      <td>3.30</td>\n",
              "      <td>0.49</td>\n",
              "      <td>9.5</td>\n",
              "      <td>6</td>\n",
              "    </tr>\n",
              "    <tr>\n",
              "      <th>2</th>\n",
              "      <td>8.1</td>\n",
              "      <td>0.28</td>\n",
              "      <td>0.40</td>\n",
              "      <td>6.9</td>\n",
              "      <td>0.050</td>\n",
              "      <td>30.0</td>\n",
              "      <td>97.0</td>\n",
              "      <td>0.9951</td>\n",
              "      <td>3.26</td>\n",
              "      <td>0.44</td>\n",
              "      <td>10.1</td>\n",
              "      <td>6</td>\n",
              "    </tr>\n",
              "    <tr>\n",
              "      <th>3</th>\n",
              "      <td>7.2</td>\n",
              "      <td>0.23</td>\n",
              "      <td>0.32</td>\n",
              "      <td>8.5</td>\n",
              "      <td>0.058</td>\n",
              "      <td>47.0</td>\n",
              "      <td>186.0</td>\n",
              "      <td>0.9956</td>\n",
              "      <td>3.19</td>\n",
              "      <td>0.40</td>\n",
              "      <td>9.9</td>\n",
              "      <td>6</td>\n",
              "    </tr>\n",
              "    <tr>\n",
              "      <th>4</th>\n",
              "      <td>7.2</td>\n",
              "      <td>0.23</td>\n",
              "      <td>0.32</td>\n",
              "      <td>8.5</td>\n",
              "      <td>0.058</td>\n",
              "      <td>47.0</td>\n",
              "      <td>186.0</td>\n",
              "      <td>0.9956</td>\n",
              "      <td>3.19</td>\n",
              "      <td>0.40</td>\n",
              "      <td>9.9</td>\n",
              "      <td>6</td>\n",
              "    </tr>\n",
              "  </tbody>\n",
              "</table>\n",
              "</div>\n",
              "      <button class=\"colab-df-convert\" onclick=\"convertToInteractive('df-fbe0c03f-52f2-43ef-9d71-c0f19f99599d')\"\n",
              "              title=\"Convert this dataframe to an interactive table.\"\n",
              "              style=\"display:none;\">\n",
              "        \n",
              "  <svg xmlns=\"http://www.w3.org/2000/svg\" height=\"24px\"viewBox=\"0 0 24 24\"\n",
              "       width=\"24px\">\n",
              "    <path d=\"M0 0h24v24H0V0z\" fill=\"none\"/>\n",
              "    <path d=\"M18.56 5.44l.94 2.06.94-2.06 2.06-.94-2.06-.94-.94-2.06-.94 2.06-2.06.94zm-11 1L8.5 8.5l.94-2.06 2.06-.94-2.06-.94L8.5 2.5l-.94 2.06-2.06.94zm10 10l.94 2.06.94-2.06 2.06-.94-2.06-.94-.94-2.06-.94 2.06-2.06.94z\"/><path d=\"M17.41 7.96l-1.37-1.37c-.4-.4-.92-.59-1.43-.59-.52 0-1.04.2-1.43.59L10.3 9.45l-7.72 7.72c-.78.78-.78 2.05 0 2.83L4 21.41c.39.39.9.59 1.41.59.51 0 1.02-.2 1.41-.59l7.78-7.78 2.81-2.81c.8-.78.8-2.07 0-2.86zM5.41 20L4 18.59l7.72-7.72 1.47 1.35L5.41 20z\"/>\n",
              "  </svg>\n",
              "      </button>\n",
              "      \n",
              "  <style>\n",
              "    .colab-df-container {\n",
              "      display:flex;\n",
              "      flex-wrap:wrap;\n",
              "      gap: 12px;\n",
              "    }\n",
              "\n",
              "    .colab-df-convert {\n",
              "      background-color: #E8F0FE;\n",
              "      border: none;\n",
              "      border-radius: 50%;\n",
              "      cursor: pointer;\n",
              "      display: none;\n",
              "      fill: #1967D2;\n",
              "      height: 32px;\n",
              "      padding: 0 0 0 0;\n",
              "      width: 32px;\n",
              "    }\n",
              "\n",
              "    .colab-df-convert:hover {\n",
              "      background-color: #E2EBFA;\n",
              "      box-shadow: 0px 1px 2px rgba(60, 64, 67, 0.3), 0px 1px 3px 1px rgba(60, 64, 67, 0.15);\n",
              "      fill: #174EA6;\n",
              "    }\n",
              "\n",
              "    [theme=dark] .colab-df-convert {\n",
              "      background-color: #3B4455;\n",
              "      fill: #D2E3FC;\n",
              "    }\n",
              "\n",
              "    [theme=dark] .colab-df-convert:hover {\n",
              "      background-color: #434B5C;\n",
              "      box-shadow: 0px 1px 3px 1px rgba(0, 0, 0, 0.15);\n",
              "      filter: drop-shadow(0px 1px 2px rgba(0, 0, 0, 0.3));\n",
              "      fill: #FFFFFF;\n",
              "    }\n",
              "  </style>\n",
              "\n",
              "      <script>\n",
              "        const buttonEl =\n",
              "          document.querySelector('#df-fbe0c03f-52f2-43ef-9d71-c0f19f99599d button.colab-df-convert');\n",
              "        buttonEl.style.display =\n",
              "          google.colab.kernel.accessAllowed ? 'block' : 'none';\n",
              "\n",
              "        async function convertToInteractive(key) {\n",
              "          const element = document.querySelector('#df-fbe0c03f-52f2-43ef-9d71-c0f19f99599d');\n",
              "          const dataTable =\n",
              "            await google.colab.kernel.invokeFunction('convertToInteractive',\n",
              "                                                     [key], {});\n",
              "          if (!dataTable) return;\n",
              "\n",
              "          const docLinkHtml = 'Like what you see? Visit the ' +\n",
              "            '<a target=\"_blank\" href=https://colab.research.google.com/notebooks/data_table.ipynb>data table notebook</a>'\n",
              "            + ' to learn more about interactive tables.';\n",
              "          element.innerHTML = '';\n",
              "          dataTable['output_type'] = 'display_data';\n",
              "          await google.colab.output.renderOutput(dataTable, element);\n",
              "          const docLink = document.createElement('div');\n",
              "          docLink.innerHTML = docLinkHtml;\n",
              "          element.appendChild(docLink);\n",
              "        }\n",
              "      </script>\n",
              "    </div>\n",
              "  </div>\n",
              "  "
            ]
          },
          "metadata": {},
          "execution_count": 5
        }
      ]
    },
    {
      "cell_type": "code",
      "source": [
        "red.info()"
      ],
      "metadata": {
        "colab": {
          "base_uri": "https://localhost:8080/"
        },
        "id": "2wbSEjbRTK9w",
        "outputId": "49833a9a-4e24-48aa-d154-9859ab63d976"
      },
      "execution_count": 6,
      "outputs": [
        {
          "output_type": "stream",
          "name": "stdout",
          "text": [
            "<class 'pandas.core.frame.DataFrame'>\n",
            "RangeIndex: 1599 entries, 0 to 1598\n",
            "Data columns (total 12 columns):\n",
            " #   Column                Non-Null Count  Dtype  \n",
            "---  ------                --------------  -----  \n",
            " 0   fixed acidity         1599 non-null   float64\n",
            " 1   volatile acidity      1599 non-null   float64\n",
            " 2   citric acid           1599 non-null   float64\n",
            " 3   residual sugar        1599 non-null   float64\n",
            " 4   chlorides             1599 non-null   float64\n",
            " 5   free sulfur dioxide   1599 non-null   float64\n",
            " 6   total sulfur dioxide  1599 non-null   float64\n",
            " 7   density               1599 non-null   float64\n",
            " 8   pH                    1599 non-null   float64\n",
            " 9   sulphates             1599 non-null   float64\n",
            " 10  alcohol               1599 non-null   float64\n",
            " 11  quality               1599 non-null   int64  \n",
            "dtypes: float64(11), int64(1)\n",
            "memory usage: 150.0 KB\n"
          ]
        }
      ]
    },
    {
      "cell_type": "code",
      "source": [
        "white.info()"
      ],
      "metadata": {
        "colab": {
          "base_uri": "https://localhost:8080/"
        },
        "id": "rnx3AgNYUFzi",
        "outputId": "c1cbdb17-f2f2-4213-d3d5-77e69ca17548"
      },
      "execution_count": 7,
      "outputs": [
        {
          "output_type": "stream",
          "name": "stdout",
          "text": [
            "<class 'pandas.core.frame.DataFrame'>\n",
            "RangeIndex: 4898 entries, 0 to 4897\n",
            "Data columns (total 12 columns):\n",
            " #   Column                Non-Null Count  Dtype  \n",
            "---  ------                --------------  -----  \n",
            " 0   fixed acidity         4898 non-null   float64\n",
            " 1   volatile acidity      4898 non-null   float64\n",
            " 2   citric acid           4898 non-null   float64\n",
            " 3   residual sugar        4898 non-null   float64\n",
            " 4   chlorides             4898 non-null   float64\n",
            " 5   free sulfur dioxide   4898 non-null   float64\n",
            " 6   total sulfur dioxide  4898 non-null   float64\n",
            " 7   density               4898 non-null   float64\n",
            " 8   pH                    4898 non-null   float64\n",
            " 9   sulphates             4898 non-null   float64\n",
            " 10  alcohol               4898 non-null   float64\n",
            " 11  quality               4898 non-null   int64  \n",
            "dtypes: float64(11), int64(1)\n",
            "memory usage: 459.3 KB\n"
          ]
        }
      ]
    },
    {
      "cell_type": "code",
      "source": [
        "red[\"type_wine\"] = 1\n",
        "white[\"type_wine\"]=0"
      ],
      "metadata": {
        "id": "QjLjZ3I0UKOn"
      },
      "execution_count": 8,
      "outputs": []
    },
    {
      "cell_type": "code",
      "source": [
        "df = pd.concat([red,white], axis=0)\n",
        "df"
      ],
      "metadata": {
        "colab": {
          "base_uri": "https://localhost:8080/",
          "height": 522
        },
        "id": "Mr0ei4BJUWwa",
        "outputId": "384951f8-6544-47ca-da38-65a89df4491a"
      },
      "execution_count": 10,
      "outputs": [
        {
          "output_type": "execute_result",
          "data": {
            "text/plain": [
              "      fixed acidity  volatile acidity  citric acid  residual sugar  chlorides  \\\n",
              "0               7.4              0.70         0.00             1.9      0.076   \n",
              "1               7.8              0.88         0.00             2.6      0.098   \n",
              "2               7.8              0.76         0.04             2.3      0.092   \n",
              "3              11.2              0.28         0.56             1.9      0.075   \n",
              "4               7.4              0.70         0.00             1.9      0.076   \n",
              "...             ...               ...          ...             ...        ...   \n",
              "4893            6.2              0.21         0.29             1.6      0.039   \n",
              "4894            6.6              0.32         0.36             8.0      0.047   \n",
              "4895            6.5              0.24         0.19             1.2      0.041   \n",
              "4896            5.5              0.29         0.30             1.1      0.022   \n",
              "4897            6.0              0.21         0.38             0.8      0.020   \n",
              "\n",
              "      free sulfur dioxide  total sulfur dioxide  density    pH  sulphates  \\\n",
              "0                    11.0                  34.0  0.99780  3.51       0.56   \n",
              "1                    25.0                  67.0  0.99680  3.20       0.68   \n",
              "2                    15.0                  54.0  0.99700  3.26       0.65   \n",
              "3                    17.0                  60.0  0.99800  3.16       0.58   \n",
              "4                    11.0                  34.0  0.99780  3.51       0.56   \n",
              "...                   ...                   ...      ...   ...        ...   \n",
              "4893                 24.0                  92.0  0.99114  3.27       0.50   \n",
              "4894                 57.0                 168.0  0.99490  3.15       0.46   \n",
              "4895                 30.0                 111.0  0.99254  2.99       0.46   \n",
              "4896                 20.0                 110.0  0.98869  3.34       0.38   \n",
              "4897                 22.0                  98.0  0.98941  3.26       0.32   \n",
              "\n",
              "      alcohol  quality  type_wine  \n",
              "0         9.4        5          1  \n",
              "1         9.8        5          1  \n",
              "2         9.8        5          1  \n",
              "3         9.8        6          1  \n",
              "4         9.4        5          1  \n",
              "...       ...      ...        ...  \n",
              "4893     11.2        6          0  \n",
              "4894      9.6        5          0  \n",
              "4895      9.4        6          0  \n",
              "4896     12.8        7          0  \n",
              "4897     11.8        6          0  \n",
              "\n",
              "[6497 rows x 13 columns]"
            ],
            "text/html": [
              "\n",
              "  <div id=\"df-cbc09c6b-e2cd-4e3a-b9a2-00a2d2be3964\">\n",
              "    <div class=\"colab-df-container\">\n",
              "      <div>\n",
              "<style scoped>\n",
              "    .dataframe tbody tr th:only-of-type {\n",
              "        vertical-align: middle;\n",
              "    }\n",
              "\n",
              "    .dataframe tbody tr th {\n",
              "        vertical-align: top;\n",
              "    }\n",
              "\n",
              "    .dataframe thead th {\n",
              "        text-align: right;\n",
              "    }\n",
              "</style>\n",
              "<table border=\"1\" class=\"dataframe\">\n",
              "  <thead>\n",
              "    <tr style=\"text-align: right;\">\n",
              "      <th></th>\n",
              "      <th>fixed acidity</th>\n",
              "      <th>volatile acidity</th>\n",
              "      <th>citric acid</th>\n",
              "      <th>residual sugar</th>\n",
              "      <th>chlorides</th>\n",
              "      <th>free sulfur dioxide</th>\n",
              "      <th>total sulfur dioxide</th>\n",
              "      <th>density</th>\n",
              "      <th>pH</th>\n",
              "      <th>sulphates</th>\n",
              "      <th>alcohol</th>\n",
              "      <th>quality</th>\n",
              "      <th>type_wine</th>\n",
              "    </tr>\n",
              "  </thead>\n",
              "  <tbody>\n",
              "    <tr>\n",
              "      <th>0</th>\n",
              "      <td>7.4</td>\n",
              "      <td>0.70</td>\n",
              "      <td>0.00</td>\n",
              "      <td>1.9</td>\n",
              "      <td>0.076</td>\n",
              "      <td>11.0</td>\n",
              "      <td>34.0</td>\n",
              "      <td>0.99780</td>\n",
              "      <td>3.51</td>\n",
              "      <td>0.56</td>\n",
              "      <td>9.4</td>\n",
              "      <td>5</td>\n",
              "      <td>1</td>\n",
              "    </tr>\n",
              "    <tr>\n",
              "      <th>1</th>\n",
              "      <td>7.8</td>\n",
              "      <td>0.88</td>\n",
              "      <td>0.00</td>\n",
              "      <td>2.6</td>\n",
              "      <td>0.098</td>\n",
              "      <td>25.0</td>\n",
              "      <td>67.0</td>\n",
              "      <td>0.99680</td>\n",
              "      <td>3.20</td>\n",
              "      <td>0.68</td>\n",
              "      <td>9.8</td>\n",
              "      <td>5</td>\n",
              "      <td>1</td>\n",
              "    </tr>\n",
              "    <tr>\n",
              "      <th>2</th>\n",
              "      <td>7.8</td>\n",
              "      <td>0.76</td>\n",
              "      <td>0.04</td>\n",
              "      <td>2.3</td>\n",
              "      <td>0.092</td>\n",
              "      <td>15.0</td>\n",
              "      <td>54.0</td>\n",
              "      <td>0.99700</td>\n",
              "      <td>3.26</td>\n",
              "      <td>0.65</td>\n",
              "      <td>9.8</td>\n",
              "      <td>5</td>\n",
              "      <td>1</td>\n",
              "    </tr>\n",
              "    <tr>\n",
              "      <th>3</th>\n",
              "      <td>11.2</td>\n",
              "      <td>0.28</td>\n",
              "      <td>0.56</td>\n",
              "      <td>1.9</td>\n",
              "      <td>0.075</td>\n",
              "      <td>17.0</td>\n",
              "      <td>60.0</td>\n",
              "      <td>0.99800</td>\n",
              "      <td>3.16</td>\n",
              "      <td>0.58</td>\n",
              "      <td>9.8</td>\n",
              "      <td>6</td>\n",
              "      <td>1</td>\n",
              "    </tr>\n",
              "    <tr>\n",
              "      <th>4</th>\n",
              "      <td>7.4</td>\n",
              "      <td>0.70</td>\n",
              "      <td>0.00</td>\n",
              "      <td>1.9</td>\n",
              "      <td>0.076</td>\n",
              "      <td>11.0</td>\n",
              "      <td>34.0</td>\n",
              "      <td>0.99780</td>\n",
              "      <td>3.51</td>\n",
              "      <td>0.56</td>\n",
              "      <td>9.4</td>\n",
              "      <td>5</td>\n",
              "      <td>1</td>\n",
              "    </tr>\n",
              "    <tr>\n",
              "      <th>...</th>\n",
              "      <td>...</td>\n",
              "      <td>...</td>\n",
              "      <td>...</td>\n",
              "      <td>...</td>\n",
              "      <td>...</td>\n",
              "      <td>...</td>\n",
              "      <td>...</td>\n",
              "      <td>...</td>\n",
              "      <td>...</td>\n",
              "      <td>...</td>\n",
              "      <td>...</td>\n",
              "      <td>...</td>\n",
              "      <td>...</td>\n",
              "    </tr>\n",
              "    <tr>\n",
              "      <th>4893</th>\n",
              "      <td>6.2</td>\n",
              "      <td>0.21</td>\n",
              "      <td>0.29</td>\n",
              "      <td>1.6</td>\n",
              "      <td>0.039</td>\n",
              "      <td>24.0</td>\n",
              "      <td>92.0</td>\n",
              "      <td>0.99114</td>\n",
              "      <td>3.27</td>\n",
              "      <td>0.50</td>\n",
              "      <td>11.2</td>\n",
              "      <td>6</td>\n",
              "      <td>0</td>\n",
              "    </tr>\n",
              "    <tr>\n",
              "      <th>4894</th>\n",
              "      <td>6.6</td>\n",
              "      <td>0.32</td>\n",
              "      <td>0.36</td>\n",
              "      <td>8.0</td>\n",
              "      <td>0.047</td>\n",
              "      <td>57.0</td>\n",
              "      <td>168.0</td>\n",
              "      <td>0.99490</td>\n",
              "      <td>3.15</td>\n",
              "      <td>0.46</td>\n",
              "      <td>9.6</td>\n",
              "      <td>5</td>\n",
              "      <td>0</td>\n",
              "    </tr>\n",
              "    <tr>\n",
              "      <th>4895</th>\n",
              "      <td>6.5</td>\n",
              "      <td>0.24</td>\n",
              "      <td>0.19</td>\n",
              "      <td>1.2</td>\n",
              "      <td>0.041</td>\n",
              "      <td>30.0</td>\n",
              "      <td>111.0</td>\n",
              "      <td>0.99254</td>\n",
              "      <td>2.99</td>\n",
              "      <td>0.46</td>\n",
              "      <td>9.4</td>\n",
              "      <td>6</td>\n",
              "      <td>0</td>\n",
              "    </tr>\n",
              "    <tr>\n",
              "      <th>4896</th>\n",
              "      <td>5.5</td>\n",
              "      <td>0.29</td>\n",
              "      <td>0.30</td>\n",
              "      <td>1.1</td>\n",
              "      <td>0.022</td>\n",
              "      <td>20.0</td>\n",
              "      <td>110.0</td>\n",
              "      <td>0.98869</td>\n",
              "      <td>3.34</td>\n",
              "      <td>0.38</td>\n",
              "      <td>12.8</td>\n",
              "      <td>7</td>\n",
              "      <td>0</td>\n",
              "    </tr>\n",
              "    <tr>\n",
              "      <th>4897</th>\n",
              "      <td>6.0</td>\n",
              "      <td>0.21</td>\n",
              "      <td>0.38</td>\n",
              "      <td>0.8</td>\n",
              "      <td>0.020</td>\n",
              "      <td>22.0</td>\n",
              "      <td>98.0</td>\n",
              "      <td>0.98941</td>\n",
              "      <td>3.26</td>\n",
              "      <td>0.32</td>\n",
              "      <td>11.8</td>\n",
              "      <td>6</td>\n",
              "      <td>0</td>\n",
              "    </tr>\n",
              "  </tbody>\n",
              "</table>\n",
              "<p>6497 rows × 13 columns</p>\n",
              "</div>\n",
              "      <button class=\"colab-df-convert\" onclick=\"convertToInteractive('df-cbc09c6b-e2cd-4e3a-b9a2-00a2d2be3964')\"\n",
              "              title=\"Convert this dataframe to an interactive table.\"\n",
              "              style=\"display:none;\">\n",
              "        \n",
              "  <svg xmlns=\"http://www.w3.org/2000/svg\" height=\"24px\"viewBox=\"0 0 24 24\"\n",
              "       width=\"24px\">\n",
              "    <path d=\"M0 0h24v24H0V0z\" fill=\"none\"/>\n",
              "    <path d=\"M18.56 5.44l.94 2.06.94-2.06 2.06-.94-2.06-.94-.94-2.06-.94 2.06-2.06.94zm-11 1L8.5 8.5l.94-2.06 2.06-.94-2.06-.94L8.5 2.5l-.94 2.06-2.06.94zm10 10l.94 2.06.94-2.06 2.06-.94-2.06-.94-.94-2.06-.94 2.06-2.06.94z\"/><path d=\"M17.41 7.96l-1.37-1.37c-.4-.4-.92-.59-1.43-.59-.52 0-1.04.2-1.43.59L10.3 9.45l-7.72 7.72c-.78.78-.78 2.05 0 2.83L4 21.41c.39.39.9.59 1.41.59.51 0 1.02-.2 1.41-.59l7.78-7.78 2.81-2.81c.8-.78.8-2.07 0-2.86zM5.41 20L4 18.59l7.72-7.72 1.47 1.35L5.41 20z\"/>\n",
              "  </svg>\n",
              "      </button>\n",
              "      \n",
              "  <style>\n",
              "    .colab-df-container {\n",
              "      display:flex;\n",
              "      flex-wrap:wrap;\n",
              "      gap: 12px;\n",
              "    }\n",
              "\n",
              "    .colab-df-convert {\n",
              "      background-color: #E8F0FE;\n",
              "      border: none;\n",
              "      border-radius: 50%;\n",
              "      cursor: pointer;\n",
              "      display: none;\n",
              "      fill: #1967D2;\n",
              "      height: 32px;\n",
              "      padding: 0 0 0 0;\n",
              "      width: 32px;\n",
              "    }\n",
              "\n",
              "    .colab-df-convert:hover {\n",
              "      background-color: #E2EBFA;\n",
              "      box-shadow: 0px 1px 2px rgba(60, 64, 67, 0.3), 0px 1px 3px 1px rgba(60, 64, 67, 0.15);\n",
              "      fill: #174EA6;\n",
              "    }\n",
              "\n",
              "    [theme=dark] .colab-df-convert {\n",
              "      background-color: #3B4455;\n",
              "      fill: #D2E3FC;\n",
              "    }\n",
              "\n",
              "    [theme=dark] .colab-df-convert:hover {\n",
              "      background-color: #434B5C;\n",
              "      box-shadow: 0px 1px 3px 1px rgba(0, 0, 0, 0.15);\n",
              "      filter: drop-shadow(0px 1px 2px rgba(0, 0, 0, 0.3));\n",
              "      fill: #FFFFFF;\n",
              "    }\n",
              "  </style>\n",
              "\n",
              "      <script>\n",
              "        const buttonEl =\n",
              "          document.querySelector('#df-cbc09c6b-e2cd-4e3a-b9a2-00a2d2be3964 button.colab-df-convert');\n",
              "        buttonEl.style.display =\n",
              "          google.colab.kernel.accessAllowed ? 'block' : 'none';\n",
              "\n",
              "        async function convertToInteractive(key) {\n",
              "          const element = document.querySelector('#df-cbc09c6b-e2cd-4e3a-b9a2-00a2d2be3964');\n",
              "          const dataTable =\n",
              "            await google.colab.kernel.invokeFunction('convertToInteractive',\n",
              "                                                     [key], {});\n",
              "          if (!dataTable) return;\n",
              "\n",
              "          const docLinkHtml = 'Like what you see? Visit the ' +\n",
              "            '<a target=\"_blank\" href=https://colab.research.google.com/notebooks/data_table.ipynb>data table notebook</a>'\n",
              "            + ' to learn more about interactive tables.';\n",
              "          element.innerHTML = '';\n",
              "          dataTable['output_type'] = 'display_data';\n",
              "          await google.colab.output.renderOutput(dataTable, element);\n",
              "          const docLink = document.createElement('div');\n",
              "          docLink.innerHTML = docLinkHtml;\n",
              "          element.appendChild(docLink);\n",
              "        }\n",
              "      </script>\n",
              "    </div>\n",
              "  </div>\n",
              "  "
            ]
          },
          "metadata": {},
          "execution_count": 10
        }
      ]
    },
    {
      "cell_type": "code",
      "source": [
        "df.info()"
      ],
      "metadata": {
        "colab": {
          "base_uri": "https://localhost:8080/"
        },
        "id": "IJ7x7HQGUnhA",
        "outputId": "7ea0ba1b-1f71-4c08-dc51-c109f1841343"
      },
      "execution_count": 11,
      "outputs": [
        {
          "output_type": "stream",
          "name": "stdout",
          "text": [
            "<class 'pandas.core.frame.DataFrame'>\n",
            "Int64Index: 6497 entries, 0 to 4897\n",
            "Data columns (total 13 columns):\n",
            " #   Column                Non-Null Count  Dtype  \n",
            "---  ------                --------------  -----  \n",
            " 0   fixed acidity         6497 non-null   float64\n",
            " 1   volatile acidity      6497 non-null   float64\n",
            " 2   citric acid           6497 non-null   float64\n",
            " 3   residual sugar        6497 non-null   float64\n",
            " 4   chlorides             6497 non-null   float64\n",
            " 5   free sulfur dioxide   6497 non-null   float64\n",
            " 6   total sulfur dioxide  6497 non-null   float64\n",
            " 7   density               6497 non-null   float64\n",
            " 8   pH                    6497 non-null   float64\n",
            " 9   sulphates             6497 non-null   float64\n",
            " 10  alcohol               6497 non-null   float64\n",
            " 11  quality               6497 non-null   int64  \n",
            " 12  type_wine             6497 non-null   int64  \n",
            "dtypes: float64(11), int64(2)\n",
            "memory usage: 710.6 KB\n"
          ]
        }
      ]
    },
    {
      "cell_type": "markdown",
      "source": [
        "# **Analyse exploratoire**"
      ],
      "metadata": {
        "id": "vMW7GaTDbmYq"
      }
    },
    {
      "cell_type": "code",
      "source": [
        "df.describe()"
      ],
      "metadata": {
        "colab": {
          "base_uri": "https://localhost:8080/",
          "height": 399
        },
        "id": "BWTx0AOjUt-q",
        "outputId": "342d1067-073e-4fb5-ee5a-6069d5211a6f"
      },
      "execution_count": 12,
      "outputs": [
        {
          "output_type": "execute_result",
          "data": {
            "text/plain": [
              "       fixed acidity  volatile acidity  citric acid  residual sugar  \\\n",
              "count    6497.000000       6497.000000  6497.000000     6497.000000   \n",
              "mean        7.215307          0.339666     0.318633        5.443235   \n",
              "std         1.296434          0.164636     0.145318        4.757804   \n",
              "min         3.800000          0.080000     0.000000        0.600000   \n",
              "25%         6.400000          0.230000     0.250000        1.800000   \n",
              "50%         7.000000          0.290000     0.310000        3.000000   \n",
              "75%         7.700000          0.400000     0.390000        8.100000   \n",
              "max        15.900000          1.580000     1.660000       65.800000   \n",
              "\n",
              "         chlorides  free sulfur dioxide  total sulfur dioxide      density  \\\n",
              "count  6497.000000          6497.000000           6497.000000  6497.000000   \n",
              "mean      0.056034            30.525319            115.744574     0.994697   \n",
              "std       0.035034            17.749400             56.521855     0.002999   \n",
              "min       0.009000             1.000000              6.000000     0.987110   \n",
              "25%       0.038000            17.000000             77.000000     0.992340   \n",
              "50%       0.047000            29.000000            118.000000     0.994890   \n",
              "75%       0.065000            41.000000            156.000000     0.996990   \n",
              "max       0.611000           289.000000            440.000000     1.038980   \n",
              "\n",
              "                pH    sulphates      alcohol      quality    type_wine  \n",
              "count  6497.000000  6497.000000  6497.000000  6497.000000  6497.000000  \n",
              "mean      3.218501     0.531268    10.491801     5.818378     0.246114  \n",
              "std       0.160787     0.148806     1.192712     0.873255     0.430779  \n",
              "min       2.720000     0.220000     8.000000     3.000000     0.000000  \n",
              "25%       3.110000     0.430000     9.500000     5.000000     0.000000  \n",
              "50%       3.210000     0.510000    10.300000     6.000000     0.000000  \n",
              "75%       3.320000     0.600000    11.300000     6.000000     0.000000  \n",
              "max       4.010000     2.000000    14.900000     9.000000     1.000000  "
            ],
            "text/html": [
              "\n",
              "  <div id=\"df-f59da6bf-8cc9-454b-8d47-0ff04f34f7b2\">\n",
              "    <div class=\"colab-df-container\">\n",
              "      <div>\n",
              "<style scoped>\n",
              "    .dataframe tbody tr th:only-of-type {\n",
              "        vertical-align: middle;\n",
              "    }\n",
              "\n",
              "    .dataframe tbody tr th {\n",
              "        vertical-align: top;\n",
              "    }\n",
              "\n",
              "    .dataframe thead th {\n",
              "        text-align: right;\n",
              "    }\n",
              "</style>\n",
              "<table border=\"1\" class=\"dataframe\">\n",
              "  <thead>\n",
              "    <tr style=\"text-align: right;\">\n",
              "      <th></th>\n",
              "      <th>fixed acidity</th>\n",
              "      <th>volatile acidity</th>\n",
              "      <th>citric acid</th>\n",
              "      <th>residual sugar</th>\n",
              "      <th>chlorides</th>\n",
              "      <th>free sulfur dioxide</th>\n",
              "      <th>total sulfur dioxide</th>\n",
              "      <th>density</th>\n",
              "      <th>pH</th>\n",
              "      <th>sulphates</th>\n",
              "      <th>alcohol</th>\n",
              "      <th>quality</th>\n",
              "      <th>type_wine</th>\n",
              "    </tr>\n",
              "  </thead>\n",
              "  <tbody>\n",
              "    <tr>\n",
              "      <th>count</th>\n",
              "      <td>6497.000000</td>\n",
              "      <td>6497.000000</td>\n",
              "      <td>6497.000000</td>\n",
              "      <td>6497.000000</td>\n",
              "      <td>6497.000000</td>\n",
              "      <td>6497.000000</td>\n",
              "      <td>6497.000000</td>\n",
              "      <td>6497.000000</td>\n",
              "      <td>6497.000000</td>\n",
              "      <td>6497.000000</td>\n",
              "      <td>6497.000000</td>\n",
              "      <td>6497.000000</td>\n",
              "      <td>6497.000000</td>\n",
              "    </tr>\n",
              "    <tr>\n",
              "      <th>mean</th>\n",
              "      <td>7.215307</td>\n",
              "      <td>0.339666</td>\n",
              "      <td>0.318633</td>\n",
              "      <td>5.443235</td>\n",
              "      <td>0.056034</td>\n",
              "      <td>30.525319</td>\n",
              "      <td>115.744574</td>\n",
              "      <td>0.994697</td>\n",
              "      <td>3.218501</td>\n",
              "      <td>0.531268</td>\n",
              "      <td>10.491801</td>\n",
              "      <td>5.818378</td>\n",
              "      <td>0.246114</td>\n",
              "    </tr>\n",
              "    <tr>\n",
              "      <th>std</th>\n",
              "      <td>1.296434</td>\n",
              "      <td>0.164636</td>\n",
              "      <td>0.145318</td>\n",
              "      <td>4.757804</td>\n",
              "      <td>0.035034</td>\n",
              "      <td>17.749400</td>\n",
              "      <td>56.521855</td>\n",
              "      <td>0.002999</td>\n",
              "      <td>0.160787</td>\n",
              "      <td>0.148806</td>\n",
              "      <td>1.192712</td>\n",
              "      <td>0.873255</td>\n",
              "      <td>0.430779</td>\n",
              "    </tr>\n",
              "    <tr>\n",
              "      <th>min</th>\n",
              "      <td>3.800000</td>\n",
              "      <td>0.080000</td>\n",
              "      <td>0.000000</td>\n",
              "      <td>0.600000</td>\n",
              "      <td>0.009000</td>\n",
              "      <td>1.000000</td>\n",
              "      <td>6.000000</td>\n",
              "      <td>0.987110</td>\n",
              "      <td>2.720000</td>\n",
              "      <td>0.220000</td>\n",
              "      <td>8.000000</td>\n",
              "      <td>3.000000</td>\n",
              "      <td>0.000000</td>\n",
              "    </tr>\n",
              "    <tr>\n",
              "      <th>25%</th>\n",
              "      <td>6.400000</td>\n",
              "      <td>0.230000</td>\n",
              "      <td>0.250000</td>\n",
              "      <td>1.800000</td>\n",
              "      <td>0.038000</td>\n",
              "      <td>17.000000</td>\n",
              "      <td>77.000000</td>\n",
              "      <td>0.992340</td>\n",
              "      <td>3.110000</td>\n",
              "      <td>0.430000</td>\n",
              "      <td>9.500000</td>\n",
              "      <td>5.000000</td>\n",
              "      <td>0.000000</td>\n",
              "    </tr>\n",
              "    <tr>\n",
              "      <th>50%</th>\n",
              "      <td>7.000000</td>\n",
              "      <td>0.290000</td>\n",
              "      <td>0.310000</td>\n",
              "      <td>3.000000</td>\n",
              "      <td>0.047000</td>\n",
              "      <td>29.000000</td>\n",
              "      <td>118.000000</td>\n",
              "      <td>0.994890</td>\n",
              "      <td>3.210000</td>\n",
              "      <td>0.510000</td>\n",
              "      <td>10.300000</td>\n",
              "      <td>6.000000</td>\n",
              "      <td>0.000000</td>\n",
              "    </tr>\n",
              "    <tr>\n",
              "      <th>75%</th>\n",
              "      <td>7.700000</td>\n",
              "      <td>0.400000</td>\n",
              "      <td>0.390000</td>\n",
              "      <td>8.100000</td>\n",
              "      <td>0.065000</td>\n",
              "      <td>41.000000</td>\n",
              "      <td>156.000000</td>\n",
              "      <td>0.996990</td>\n",
              "      <td>3.320000</td>\n",
              "      <td>0.600000</td>\n",
              "      <td>11.300000</td>\n",
              "      <td>6.000000</td>\n",
              "      <td>0.000000</td>\n",
              "    </tr>\n",
              "    <tr>\n",
              "      <th>max</th>\n",
              "      <td>15.900000</td>\n",
              "      <td>1.580000</td>\n",
              "      <td>1.660000</td>\n",
              "      <td>65.800000</td>\n",
              "      <td>0.611000</td>\n",
              "      <td>289.000000</td>\n",
              "      <td>440.000000</td>\n",
              "      <td>1.038980</td>\n",
              "      <td>4.010000</td>\n",
              "      <td>2.000000</td>\n",
              "      <td>14.900000</td>\n",
              "      <td>9.000000</td>\n",
              "      <td>1.000000</td>\n",
              "    </tr>\n",
              "  </tbody>\n",
              "</table>\n",
              "</div>\n",
              "      <button class=\"colab-df-convert\" onclick=\"convertToInteractive('df-f59da6bf-8cc9-454b-8d47-0ff04f34f7b2')\"\n",
              "              title=\"Convert this dataframe to an interactive table.\"\n",
              "              style=\"display:none;\">\n",
              "        \n",
              "  <svg xmlns=\"http://www.w3.org/2000/svg\" height=\"24px\"viewBox=\"0 0 24 24\"\n",
              "       width=\"24px\">\n",
              "    <path d=\"M0 0h24v24H0V0z\" fill=\"none\"/>\n",
              "    <path d=\"M18.56 5.44l.94 2.06.94-2.06 2.06-.94-2.06-.94-.94-2.06-.94 2.06-2.06.94zm-11 1L8.5 8.5l.94-2.06 2.06-.94-2.06-.94L8.5 2.5l-.94 2.06-2.06.94zm10 10l.94 2.06.94-2.06 2.06-.94-2.06-.94-.94-2.06-.94 2.06-2.06.94z\"/><path d=\"M17.41 7.96l-1.37-1.37c-.4-.4-.92-.59-1.43-.59-.52 0-1.04.2-1.43.59L10.3 9.45l-7.72 7.72c-.78.78-.78 2.05 0 2.83L4 21.41c.39.39.9.59 1.41.59.51 0 1.02-.2 1.41-.59l7.78-7.78 2.81-2.81c.8-.78.8-2.07 0-2.86zM5.41 20L4 18.59l7.72-7.72 1.47 1.35L5.41 20z\"/>\n",
              "  </svg>\n",
              "      </button>\n",
              "      \n",
              "  <style>\n",
              "    .colab-df-container {\n",
              "      display:flex;\n",
              "      flex-wrap:wrap;\n",
              "      gap: 12px;\n",
              "    }\n",
              "\n",
              "    .colab-df-convert {\n",
              "      background-color: #E8F0FE;\n",
              "      border: none;\n",
              "      border-radius: 50%;\n",
              "      cursor: pointer;\n",
              "      display: none;\n",
              "      fill: #1967D2;\n",
              "      height: 32px;\n",
              "      padding: 0 0 0 0;\n",
              "      width: 32px;\n",
              "    }\n",
              "\n",
              "    .colab-df-convert:hover {\n",
              "      background-color: #E2EBFA;\n",
              "      box-shadow: 0px 1px 2px rgba(60, 64, 67, 0.3), 0px 1px 3px 1px rgba(60, 64, 67, 0.15);\n",
              "      fill: #174EA6;\n",
              "    }\n",
              "\n",
              "    [theme=dark] .colab-df-convert {\n",
              "      background-color: #3B4455;\n",
              "      fill: #D2E3FC;\n",
              "    }\n",
              "\n",
              "    [theme=dark] .colab-df-convert:hover {\n",
              "      background-color: #434B5C;\n",
              "      box-shadow: 0px 1px 3px 1px rgba(0, 0, 0, 0.15);\n",
              "      filter: drop-shadow(0px 1px 2px rgba(0, 0, 0, 0.3));\n",
              "      fill: #FFFFFF;\n",
              "    }\n",
              "  </style>\n",
              "\n",
              "      <script>\n",
              "        const buttonEl =\n",
              "          document.querySelector('#df-f59da6bf-8cc9-454b-8d47-0ff04f34f7b2 button.colab-df-convert');\n",
              "        buttonEl.style.display =\n",
              "          google.colab.kernel.accessAllowed ? 'block' : 'none';\n",
              "\n",
              "        async function convertToInteractive(key) {\n",
              "          const element = document.querySelector('#df-f59da6bf-8cc9-454b-8d47-0ff04f34f7b2');\n",
              "          const dataTable =\n",
              "            await google.colab.kernel.invokeFunction('convertToInteractive',\n",
              "                                                     [key], {});\n",
              "          if (!dataTable) return;\n",
              "\n",
              "          const docLinkHtml = 'Like what you see? Visit the ' +\n",
              "            '<a target=\"_blank\" href=https://colab.research.google.com/notebooks/data_table.ipynb>data table notebook</a>'\n",
              "            + ' to learn more about interactive tables.';\n",
              "          element.innerHTML = '';\n",
              "          dataTable['output_type'] = 'display_data';\n",
              "          await google.colab.output.renderOutput(dataTable, element);\n",
              "          const docLink = document.createElement('div');\n",
              "          docLink.innerHTML = docLinkHtml;\n",
              "          element.appendChild(docLink);\n",
              "        }\n",
              "      </script>\n",
              "    </div>\n",
              "  </div>\n",
              "  "
            ]
          },
          "metadata": {},
          "execution_count": 12
        }
      ]
    },
    {
      "cell_type": "code",
      "source": [
        "df.isna().sum()"
      ],
      "metadata": {
        "colab": {
          "base_uri": "https://localhost:8080/"
        },
        "id": "qEPG61Nlb0ud",
        "outputId": "ed4357d1-eb0a-488a-e341-8430afddf2e5"
      },
      "execution_count": 14,
      "outputs": [
        {
          "output_type": "execute_result",
          "data": {
            "text/plain": [
              "fixed acidity           0\n",
              "volatile acidity        0\n",
              "citric acid             0\n",
              "residual sugar          0\n",
              "chlorides               0\n",
              "free sulfur dioxide     0\n",
              "total sulfur dioxide    0\n",
              "density                 0\n",
              "pH                      0\n",
              "sulphates               0\n",
              "alcohol                 0\n",
              "quality                 0\n",
              "type_wine               0\n",
              "dtype: int64"
            ]
          },
          "metadata": {},
          "execution_count": 14
        }
      ]
    },
    {
      "cell_type": "code",
      "source": [
        "df[\"quality\"].value_counts(normalize=True)*100"
      ],
      "metadata": {
        "colab": {
          "base_uri": "https://localhost:8080/"
        },
        "id": "xPOq_txfb_hx",
        "outputId": "aff41a8d-907b-4d86-c5c1-b35df34666d4"
      },
      "execution_count": 17,
      "outputs": [
        {
          "output_type": "execute_result",
          "data": {
            "text/plain": [
              "6    43.650916\n",
              "5    32.907496\n",
              "7    16.607665\n",
              "4     3.324611\n",
              "8     2.970602\n",
              "3     0.461752\n",
              "9     0.076959\n",
              "Name: quality, dtype: float64"
            ]
          },
          "metadata": {},
          "execution_count": 17
        }
      ]
    },
    {
      "cell_type": "code",
      "source": [
        "df.hist(figsize=(20,10));"
      ],
      "metadata": {
        "colab": {
          "base_uri": "https://localhost:8080/",
          "height": 350
        },
        "id": "uTNZa5IKcRiO",
        "outputId": "1cb49e5c-9556-4974-fbb0-9b540a1ee343"
      },
      "execution_count": 23,
      "outputs": [
        {
          "output_type": "display_data",
          "data": {
            "text/plain": [
              "<Figure size 2000x1000 with 16 Axes>"
            ],
            "image/png": "[encoded data removed]"
          },
          "metadata": {}
        }
      ]
    },
    {
      "cell_type": "markdown",
      "source": [
        "**Hypothèse** : Si nous subdivisons notre data set par rapport à la qualité du vin c'est-à-dire (si la qualité est >= 7, le vin est de bonne qualité) et (si la qualité est < 7, le vin est de mauvaise qualité)"
      ],
      "metadata": {
        "id": "fbjrR3qudytk"
      }
    },
    {
      "cell_type": "code",
      "source": [
        "df[df.quality >= 7].describe()"
      ],
      "metadata": {
        "colab": {
          "base_uri": "https://localhost:8080/",
          "height": 399
        },
        "id": "e_4ZsY7ncgqW",
        "outputId": "a80ffbd6-eac1-4475-ae6d-db0b9a7ff3e0"
      },
      "execution_count": 24,
      "outputs": [
        {
          "output_type": "execute_result",
          "data": {
            "text/plain": [
              "       fixed acidity  volatile acidity  citric acid  residual sugar  \\\n",
              "count    1277.000000        1277.00000  1277.000000     1277.000000   \n",
              "mean        7.085709           0.28917     0.334628        4.827721   \n",
              "std         1.342832           0.11696     0.110040        4.063824   \n",
              "min         3.900000           0.08000     0.000000        0.800000   \n",
              "25%         6.300000           0.20000     0.280000        1.800000   \n",
              "50%         6.900000           0.27000     0.320000        2.900000   \n",
              "75%         7.400000           0.34000     0.380000        6.500000   \n",
              "max        15.600000           0.91500     0.760000       19.250000   \n",
              "\n",
              "         chlorides  free sulfur dioxide  total sulfur dioxide      density  \\\n",
              "count  1277.000000          1277.000000           1277.000000  1277.000000   \n",
              "mean      0.044576            31.055208            109.891151     0.993027   \n",
              "std       0.021014            15.344154             47.126201     0.003007   \n",
              "min       0.012000             3.000000              7.000000     0.987110   \n",
              "25%       0.033000            20.000000             87.000000     0.990720   \n",
              "50%       0.039000            31.000000            114.000000     0.992280   \n",
              "75%       0.051000            40.000000            140.000000     0.995000   \n",
              "max       0.358000           108.000000            289.000000     1.003200   \n",
              "\n",
              "                pH    sulphates      alcohol      quality    type_wine  \n",
              "count  1277.000000  1277.000000  1277.000000  1277.000000  1277.000000  \n",
              "mean      3.227651     0.541488    11.433359     7.158966     0.169930  \n",
              "std       0.159094     0.161521     1.215620     0.376348     0.375718  \n",
              "min       2.840000     0.220000     8.500000     7.000000     0.000000  \n",
              "25%       3.120000     0.420000    10.700000     7.000000     0.000000  \n",
              "50%       3.220000     0.510000    11.500000     7.000000     0.000000  \n",
              "75%       3.340000     0.640000    12.400000     7.000000     0.000000  \n",
              "max       3.820000     1.360000    14.200000     9.000000     1.000000  "
            ],
            "text/html": [
              "\n",
              "  <div id=\"df-bff2f455-f9d1-4d84-8ab1-1feeb19a0ba8\">\n",
              "    <div class=\"colab-df-container\">\n",
              "      <div>\n",
              "<style scoped>\n",
              "    .dataframe tbody tr th:only-of-type {\n",
              "        vertical-align: middle;\n",
              "    }\n",
              "\n",
              "    .dataframe tbody tr th {\n",
              "        vertical-align: top;\n",
              "    }\n",
              "\n",
              "    .dataframe thead th {\n",
              "        text-align: right;\n",
              "    }\n",
              "</style>\n",
              "<table border=\"1\" class=\"dataframe\">\n",
              "  <thead>\n",
              "    <tr style=\"text-align: right;\">\n",
              "      <th></th>\n",
              "      <th>fixed acidity</th>\n",
              "      <th>volatile acidity</th>\n",
              "      <th>citric acid</th>\n",
              "      <th>residual sugar</th>\n",
              "      <th>chlorides</th>\n",
              "      <th>free sulfur dioxide</th>\n",
              "      <th>total sulfur dioxide</th>\n",
              "      <th>density</th>\n",
              "      <th>pH</th>\n",
              "      <th>sulphates</th>\n",
              "      <th>alcohol</th>\n",
              "      <th>quality</th>\n",
              "      <th>type_wine</th>\n",
              "    </tr>\n",
              "  </thead>\n",
              "  <tbody>\n",
              "    <tr>\n",
              "      <th>count</th>\n",
              "      <td>1277.000000</td>\n",
              "      <td>1277.00000</td>\n",
              "      <td>1277.000000</td>\n",
              "      <td>1277.000000</td>\n",
              "      <td>1277.000000</td>\n",
              "      <td>1277.000000</td>\n",
              "      <td>1277.000000</td>\n",
              "      <td>1277.000000</td>\n",
              "      <td>1277.000000</td>\n",
              "      <td>1277.000000</td>\n",
              "      <td>1277.000000</td>\n",
              "      <td>1277.000000</td>\n",
              "      <td>1277.000000</td>\n",
              "    </tr>\n",
              "    <tr>\n",
              "      <th>mean</th>\n",
              "      <td>7.085709</td>\n",
              "      <td>0.28917</td>\n",
              "      <td>0.334628</td>\n",
              "      <td>4.827721</td>\n",
              "      <td>0.044576</td>\n",
              "      <td>31.055208</td>\n",
              "      <td>109.891151</td>\n",
              "      <td>0.993027</td>\n",
              "      <td>3.227651</td>\n",
              "      <td>0.541488</td>\n",
              "      <td>11.433359</td>\n",
              "      <td>7.158966</td>\n",
              "      <td>0.169930</td>\n",
              "    </tr>\n",
              "    <tr>\n",
              "      <th>std</th>\n",
              "      <td>1.342832</td>\n",
              "      <td>0.11696</td>\n",
              "      <td>0.110040</td>\n",
              "      <td>4.063824</td>\n",
              "      <td>0.021014</td>\n",
              "      <td>15.344154</td>\n",
              "      <td>47.126201</td>\n",
              "      <td>0.003007</td>\n",
              "      <td>0.159094</td>\n",
              "      <td>0.161521</td>\n",
              "      <td>1.215620</td>\n",
              "      <td>0.376348</td>\n",
              "      <td>0.375718</td>\n",
              "    </tr>\n",
              "    <tr>\n",
              "      <th>min</th>\n",
              "      <td>3.900000</td>\n",
              "      <td>0.08000</td>\n",
              "      <td>0.000000</td>\n",
              "      <td>0.800000</td>\n",
              "      <td>0.012000</td>\n",
              "      <td>3.000000</td>\n",
              "      <td>7.000000</td>\n",
              "      <td>0.987110</td>\n",
              "      <td>2.840000</td>\n",
              "      <td>0.220000</td>\n",
              "      <td>8.500000</td>\n",
              "      <td>7.000000</td>\n",
              "      <td>0.000000</td>\n",
              "    </tr>\n",
              "    <tr>\n",
              "      <th>25%</th>\n",
              "      <td>6.300000</td>\n",
              "      <td>0.20000</td>\n",
              "      <td>0.280000</td>\n",
              "      <td>1.800000</td>\n",
              "      <td>0.033000</td>\n",
              "      <td>20.000000</td>\n",
              "      <td>87.000000</td>\n",
              "      <td>0.990720</td>\n",
              "      <td>3.120000</td>\n",
              "      <td>0.420000</td>\n",
              "      <td>10.700000</td>\n",
              "      <td>7.000000</td>\n",
              "      <td>0.000000</td>\n",
              "    </tr>\n",
              "    <tr>\n",
              "      <th>50%</th>\n",
              "      <td>6.900000</td>\n",
              "      <td>0.27000</td>\n",
              "      <td>0.320000</td>\n",
              "      <td>2.900000</td>\n",
              "      <td>0.039000</td>\n",
              "      <td>31.000000</td>\n",
              "      <td>114.000000</td>\n",
              "      <td>0.992280</td>\n",
              "      <td>3.220000</td>\n",
              "      <td>0.510000</td>\n",
              "      <td>11.500000</td>\n",
              "      <td>7.000000</td>\n",
              "      <td>0.000000</td>\n",
              "    </tr>\n",
              "    <tr>\n",
              "      <th>75%</th>\n",
              "      <td>7.400000</td>\n",
              "      <td>0.34000</td>\n",
              "      <td>0.380000</td>\n",
              "      <td>6.500000</td>\n",
              "      <td>0.051000</td>\n",
              "      <td>40.000000</td>\n",
              "      <td>140.000000</td>\n",
              "      <td>0.995000</td>\n",
              "      <td>3.340000</td>\n",
              "      <td>0.640000</td>\n",
              "      <td>12.400000</td>\n",
              "      <td>7.000000</td>\n",
              "      <td>0.000000</td>\n",
              "    </tr>\n",
              "    <tr>\n",
              "      <th>max</th>\n",
              "      <td>15.600000</td>\n",
              "      <td>0.91500</td>\n",
              "      <td>0.760000</td>\n",
              "      <td>19.250000</td>\n",
              "      <td>0.358000</td>\n",
              "      <td>108.000000</td>\n",
              "      <td>289.000000</td>\n",
              "      <td>1.003200</td>\n",
              "      <td>3.820000</td>\n",
              "      <td>1.360000</td>\n",
              "      <td>14.200000</td>\n",
              "      <td>9.000000</td>\n",
              "      <td>1.000000</td>\n",
              "    </tr>\n",
              "  </tbody>\n",
              "</table>\n",
              "</div>\n",
              "      <button class=\"colab-df-convert\" onclick=\"convertToInteractive('df-bff2f455-f9d1-4d84-8ab1-1feeb19a0ba8')\"\n",
              "              title=\"Convert this dataframe to an interactive table.\"\n",
              "              style=\"display:none;\">\n",
              "        \n",
              "  <svg xmlns=\"http://www.w3.org/2000/svg\" height=\"24px\"viewBox=\"0 0 24 24\"\n",
              "       width=\"24px\">\n",
              "    <path d=\"M0 0h24v24H0V0z\" fill=\"none\"/>\n",
              "    <path d=\"M18.56 5.44l.94 2.06.94-2.06 2.06-.94-2.06-.94-.94-2.06-.94 2.06-2.06.94zm-11 1L8.5 8.5l.94-2.06 2.06-.94-2.06-.94L8.5 2.5l-.94 2.06-2.06.94zm10 10l.94 2.06.94-2.06 2.06-.94-2.06-.94-.94-2.06-.94 2.06-2.06.94z\"/><path d=\"M17.41 7.96l-1.37-1.37c-.4-.4-.92-.59-1.43-.59-.52 0-1.04.2-1.43.59L10.3 9.45l-7.72 7.72c-.78.78-.78 2.05 0 2.83L4 21.41c.39.39.9.59 1.41.59.51 0 1.02-.2 1.41-.59l7.78-7.78 2.81-2.81c.8-.78.8-2.07 0-2.86zM5.41 20L4 18.59l7.72-7.72 1.47 1.35L5.41 20z\"/>\n",
              "  </svg>\n",
              "      </button>\n",
              "      \n",
              "  <style>\n",
              "    .colab-df-container {\n",
              "      display:flex;\n",
              "      flex-wrap:wrap;\n",
              "      gap: 12px;\n",
              "    }\n",
              "\n",
              "    .colab-df-convert {\n",
              "      background-color: #E8F0FE;\n",
              "      border: none;\n",
              "      border-radius: 50%;\n",
              "      cursor: pointer;\n",
              "      display: none;\n",
              "      fill: #1967D2;\n",
              "      height: 32px;\n",
              "      padding: 0 0 0 0;\n",
              "      width: 32px;\n",
              "    }\n",
              "\n",
              "    .colab-df-convert:hover {\n",
              "      background-color: #E2EBFA;\n",
              "      box-shadow: 0px 1px 2px rgba(60, 64, 67, 0.3), 0px 1px 3px 1px rgba(60, 64, 67, 0.15);\n",
              "      fill: #174EA6;\n",
              "    }\n",
              "\n",
              "    [theme=dark] .colab-df-convert {\n",
              "      background-color: #3B4455;\n",
              "      fill: #D2E3FC;\n",
              "    }\n",
              "\n",
              "    [theme=dark] .colab-df-convert:hover {\n",
              "      background-color: #434B5C;\n",
              "      box-shadow: 0px 1px 3px 1px rgba(0, 0, 0, 0.15);\n",
              "      filter: drop-shadow(0px 1px 2px rgba(0, 0, 0, 0.3));\n",
              "      fill: #FFFFFF;\n",
              "    }\n",
              "  </style>\n",
              "\n",
              "      <script>\n",
              "        const buttonEl =\n",
              "          document.querySelector('#df-bff2f455-f9d1-4d84-8ab1-1feeb19a0ba8 button.colab-df-convert');\n",
              "        buttonEl.style.display =\n",
              "          google.colab.kernel.accessAllowed ? 'block' : 'none';\n",
              "\n",
              "        async function convertToInteractive(key) {\n",
              "          const element = document.querySelector('#df-bff2f455-f9d1-4d84-8ab1-1feeb19a0ba8');\n",
              "          const dataTable =\n",
              "            await google.colab.kernel.invokeFunction('convertToInteractive',\n",
              "                                                     [key], {});\n",
              "          if (!dataTable) return;\n",
              "\n",
              "          const docLinkHtml = 'Like what you see? Visit the ' +\n",
              "            '<a target=\"_blank\" href=https://colab.research.google.com/notebooks/data_table.ipynb>data table notebook</a>'\n",
              "            + ' to learn more about interactive tables.';\n",
              "          element.innerHTML = '';\n",
              "          dataTable['output_type'] = 'display_data';\n",
              "          await google.colab.output.renderOutput(dataTable, element);\n",
              "          const docLink = document.createElement('div');\n",
              "          docLink.innerHTML = docLinkHtml;\n",
              "          element.appendChild(docLink);\n",
              "        }\n",
              "      </script>\n",
              "    </div>\n",
              "  </div>\n",
              "  "
            ]
          },
          "metadata": {},
          "execution_count": 24
        }
      ]
    },
    {
      "cell_type": "code",
      "source": [
        "df[df.quality < 7].describe()"
      ],
      "metadata": {
        "colab": {
          "base_uri": "https://localhost:8080/",
          "height": 399
        },
        "id": "nNZokNVIepPX",
        "outputId": "261d3868-c024-4622-c258-caa235c63266"
      },
      "execution_count": 25,
      "outputs": [
        {
          "output_type": "execute_result",
          "data": {
            "text/plain": [
              "       fixed acidity  volatile acidity  citric acid  residual sugar  \\\n",
              "count    5220.000000       5220.000000  5220.000000     5220.000000   \n",
              "mean        7.247011          0.352019     0.314720        5.593812   \n",
              "std         1.282968          0.172094     0.152466        4.901269   \n",
              "min         3.800000          0.080000     0.000000        0.600000   \n",
              "25%         6.400000          0.230000     0.240000        1.800000   \n",
              "50%         7.000000          0.300000     0.300000        3.000000   \n",
              "75%         7.700000          0.430000     0.400000        8.300000   \n",
              "max        15.900000          1.580000     1.660000       65.800000   \n",
              "\n",
              "         chlorides  free sulfur dioxide  total sulfur dioxide      density  \\\n",
              "count  5220.000000          5220.000000           5220.000000  5220.000000   \n",
              "mean      0.058837            30.395690            117.176533     0.995105   \n",
              "std       0.037145            18.288715             58.506354     0.002852   \n",
              "min       0.009000             1.000000              6.000000     0.987220   \n",
              "25%       0.040000            16.000000             74.000000     0.993000   \n",
              "50%       0.049000            28.000000            119.000000     0.995400   \n",
              "75%       0.069000            42.000000            160.000000     0.997200   \n",
              "max       0.611000           289.000000            440.000000     1.038980   \n",
              "\n",
              "                pH    sulphates      alcohol      quality    type_wine  \n",
              "count  5220.000000  5220.000000  5220.000000  5220.000000  5220.000000  \n",
              "mean      3.216262     0.528768    10.261462     5.490421     0.264751  \n",
              "std       0.161135     0.145434     1.067408     0.605987     0.441243  \n",
              "min       2.720000     0.230000     8.000000     3.000000     0.000000  \n",
              "25%       3.110000     0.430000     9.400000     5.000000     0.000000  \n",
              "50%       3.200000     0.510000    10.000000     6.000000     0.000000  \n",
              "75%       3.320000     0.590000    11.000000     6.000000     1.000000  \n",
              "max       4.010000     2.000000    14.900000     6.000000     1.000000  "
            ],
            "text/html": [
              "\n",
              "  <div id=\"df-989435af-1263-42ae-aad2-dc9a6e42f87f\">\n",
              "    <div class=\"colab-df-container\">\n",
              "      <div>\n",
              "<style scoped>\n",
              "    .dataframe tbody tr th:only-of-type {\n",
              "        vertical-align: middle;\n",
              "    }\n",
              "\n",
              "    .dataframe tbody tr th {\n",
              "        vertical-align: top;\n",
              "    }\n",
              "\n",
              "    .dataframe thead th {\n",
              "        text-align: right;\n",
              "    }\n",
              "</style>\n",
              "<table border=\"1\" class=\"dataframe\">\n",
              "  <thead>\n",
              "    <tr style=\"text-align: right;\">\n",
              "      <th></th>\n",
              "      <th>fixed acidity</th>\n",
              "      <th>volatile acidity</th>\n",
              "      <th>citric acid</th>\n",
              "      <th>residual sugar</th>\n",
              "      <th>chlorides</th>\n",
              "      <th>free sulfur dioxide</th>\n",
              "      <th>total sulfur dioxide</th>\n",
              "      <th>density</th>\n",
              "      <th>pH</th>\n",
              "      <th>sulphates</th>\n",
              "      <th>alcohol</th>\n",
              "      <th>quality</th>\n",
              "      <th>type_wine</th>\n",
              "    </tr>\n",
              "  </thead>\n",
              "  <tbody>\n",
              "    <tr>\n",
              "      <th>count</th>\n",
              "      <td>5220.000000</td>\n",
              "      <td>5220.000000</td>\n",
              "      <td>5220.000000</td>\n",
              "      <td>5220.000000</td>\n",
              "      <td>5220.000000</td>\n",
              "      <td>5220.000000</td>\n",
              "      <td>5220.000000</td>\n",
              "      <td>5220.000000</td>\n",
              "      <td>5220.000000</td>\n",
              "      <td>5220.000000</td>\n",
              "      <td>5220.000000</td>\n",
              "      <td>5220.000000</td>\n",
              "      <td>5220.000000</td>\n",
              "    </tr>\n",
              "    <tr>\n",
              "      <th>mean</th>\n",
              "      <td>7.247011</td>\n",
              "      <td>0.352019</td>\n",
              "      <td>0.314720</td>\n",
              "      <td>5.593812</td>\n",
              "      <td>0.058837</td>\n",
              "      <td>30.395690</td>\n",
              "      <td>117.176533</td>\n",
              "      <td>0.995105</td>\n",
              "      <td>3.216262</td>\n",
              "      <td>0.528768</td>\n",
              "      <td>10.261462</td>\n",
              "      <td>5.490421</td>\n",
              "      <td>0.264751</td>\n",
              "    </tr>\n",
              "    <tr>\n",
              "      <th>std</th>\n",
              "      <td>1.282968</td>\n",
              "      <td>0.172094</td>\n",
              "      <td>0.152466</td>\n",
              "      <td>4.901269</td>\n",
              "      <td>0.037145</td>\n",
              "      <td>18.288715</td>\n",
              "      <td>58.506354</td>\n",
              "      <td>0.002852</td>\n",
              "      <td>0.161135</td>\n",
              "      <td>0.145434</td>\n",
              "      <td>1.067408</td>\n",
              "      <td>0.605987</td>\n",
              "      <td>0.441243</td>\n",
              "    </tr>\n",
              "    <tr>\n",
              "      <th>min</th>\n",
              "      <td>3.800000</td>\n",
              "      <td>0.080000</td>\n",
              "      <td>0.000000</td>\n",
              "      <td>0.600000</td>\n",
              "      <td>0.009000</td>\n",
              "      <td>1.000000</td>\n",
              "      <td>6.000000</td>\n",
              "      <td>0.987220</td>\n",
              "      <td>2.720000</td>\n",
              "      <td>0.230000</td>\n",
              "      <td>8.000000</td>\n",
              "      <td>3.000000</td>\n",
              "      <td>0.000000</td>\n",
              "    </tr>\n",
              "    <tr>\n",
              "      <th>25%</th>\n",
              "      <td>6.400000</td>\n",
              "      <td>0.230000</td>\n",
              "      <td>0.240000</td>\n",
              "      <td>1.800000</td>\n",
              "      <td>0.040000</td>\n",
              "      <td>16.000000</td>\n",
              "      <td>74.000000</td>\n",
              "      <td>0.993000</td>\n",
              "      <td>3.110000</td>\n",
              "      <td>0.430000</td>\n",
              "      <td>9.400000</td>\n",
              "      <td>5.000000</td>\n",
              "      <td>0.000000</td>\n",
              "    </tr>\n",
              "    <tr>\n",
              "      <th>50%</th>\n",
              "      <td>7.000000</td>\n",
              "      <td>0.300000</td>\n",
              "      <td>0.300000</td>\n",
              "      <td>3.000000</td>\n",
              "      <td>0.049000</td>\n",
              "      <td>28.000000</td>\n",
              "      <td>119.000000</td>\n",
              "      <td>0.995400</td>\n",
              "      <td>3.200000</td>\n",
              "      <td>0.510000</td>\n",
              "      <td>10.000000</td>\n",
              "      <td>6.000000</td>\n",
              "      <td>0.000000</td>\n",
              "    </tr>\n",
              "    <tr>\n",
              "      <th>75%</th>\n",
              "      <td>7.700000</td>\n",
              "      <td>0.430000</td>\n",
              "      <td>0.400000</td>\n",
              "      <td>8.300000</td>\n",
              "      <td>0.069000</td>\n",
              "      <td>42.000000</td>\n",
              "      <td>160.000000</td>\n",
              "      <td>0.997200</td>\n",
              "      <td>3.320000</td>\n",
              "      <td>0.590000</td>\n",
              "      <td>11.000000</td>\n",
              "      <td>6.000000</td>\n",
              "      <td>1.000000</td>\n",
              "    </tr>\n",
              "    <tr>\n",
              "      <th>max</th>\n",
              "      <td>15.900000</td>\n",
              "      <td>1.580000</td>\n",
              "      <td>1.660000</td>\n",
              "      <td>65.800000</td>\n",
              "      <td>0.611000</td>\n",
              "      <td>289.000000</td>\n",
              "      <td>440.000000</td>\n",
              "      <td>1.038980</td>\n",
              "      <td>4.010000</td>\n",
              "      <td>2.000000</td>\n",
              "      <td>14.900000</td>\n",
              "      <td>6.000000</td>\n",
              "      <td>1.000000</td>\n",
              "    </tr>\n",
              "  </tbody>\n",
              "</table>\n",
              "</div>\n",
              "      <button class=\"colab-df-convert\" onclick=\"convertToInteractive('df-989435af-1263-42ae-aad2-dc9a6e42f87f')\"\n",
              "              title=\"Convert this dataframe to an interactive table.\"\n",
              "              style=\"display:none;\">\n",
              "        \n",
              "  <svg xmlns=\"http://www.w3.org/2000/svg\" height=\"24px\"viewBox=\"0 0 24 24\"\n",
              "       width=\"24px\">\n",
              "    <path d=\"M0 0h24v24H0V0z\" fill=\"none\"/>\n",
              "    <path d=\"M18.56 5.44l.94 2.06.94-2.06 2.06-.94-2.06-.94-.94-2.06-.94 2.06-2.06.94zm-11 1L8.5 8.5l.94-2.06 2.06-.94-2.06-.94L8.5 2.5l-.94 2.06-2.06.94zm10 10l.94 2.06.94-2.06 2.06-.94-2.06-.94-.94-2.06-.94 2.06-2.06.94z\"/><path d=\"M17.41 7.96l-1.37-1.37c-.4-.4-.92-.59-1.43-.59-.52 0-1.04.2-1.43.59L10.3 9.45l-7.72 7.72c-.78.78-.78 2.05 0 2.83L4 21.41c.39.39.9.59 1.41.59.51 0 1.02-.2 1.41-.59l7.78-7.78 2.81-2.81c.8-.78.8-2.07 0-2.86zM5.41 20L4 18.59l7.72-7.72 1.47 1.35L5.41 20z\"/>\n",
              "  </svg>\n",
              "      </button>\n",
              "      \n",
              "  <style>\n",
              "    .colab-df-container {\n",
              "      display:flex;\n",
              "      flex-wrap:wrap;\n",
              "      gap: 12px;\n",
              "    }\n",
              "\n",
              "    .colab-df-convert {\n",
              "      background-color: #E8F0FE;\n",
              "      border: none;\n",
              "      border-radius: 50%;\n",
              "      cursor: pointer;\n",
              "      display: none;\n",
              "      fill: #1967D2;\n",
              "      height: 32px;\n",
              "      padding: 0 0 0 0;\n",
              "      width: 32px;\n",
              "    }\n",
              "\n",
              "    .colab-df-convert:hover {\n",
              "      background-color: #E2EBFA;\n",
              "      box-shadow: 0px 1px 2px rgba(60, 64, 67, 0.3), 0px 1px 3px 1px rgba(60, 64, 67, 0.15);\n",
              "      fill: #174EA6;\n",
              "    }\n",
              "\n",
              "    [theme=dark] .colab-df-convert {\n",
              "      background-color: #3B4455;\n",
              "      fill: #D2E3FC;\n",
              "    }\n",
              "\n",
              "    [theme=dark] .colab-df-convert:hover {\n",
              "      background-color: #434B5C;\n",
              "      box-shadow: 0px 1px 3px 1px rgba(0, 0, 0, 0.15);\n",
              "      filter: drop-shadow(0px 1px 2px rgba(0, 0, 0, 0.3));\n",
              "      fill: #FFFFFF;\n",
              "    }\n",
              "  </style>\n",
              "\n",
              "      <script>\n",
              "        const buttonEl =\n",
              "          document.querySelector('#df-989435af-1263-42ae-aad2-dc9a6e42f87f button.colab-df-convert');\n",
              "        buttonEl.style.display =\n",
              "          google.colab.kernel.accessAllowed ? 'block' : 'none';\n",
              "\n",
              "        async function convertToInteractive(key) {\n",
              "          const element = document.querySelector('#df-989435af-1263-42ae-aad2-dc9a6e42f87f');\n",
              "          const dataTable =\n",
              "            await google.colab.kernel.invokeFunction('convertToInteractive',\n",
              "                                                     [key], {});\n",
              "          if (!dataTable) return;\n",
              "\n",
              "          const docLinkHtml = 'Like what you see? Visit the ' +\n",
              "            '<a target=\"_blank\" href=https://colab.research.google.com/notebooks/data_table.ipynb>data table notebook</a>'\n",
              "            + ' to learn more about interactive tables.';\n",
              "          element.innerHTML = '';\n",
              "          dataTable['output_type'] = 'display_data';\n",
              "          await google.colab.output.renderOutput(dataTable, element);\n",
              "          const docLink = document.createElement('div');\n",
              "          docLink.innerHTML = docLinkHtml;\n",
              "          element.appendChild(docLink);\n",
              "        }\n",
              "      </script>\n",
              "    </div>\n",
              "  </div>\n",
              "  "
            ]
          },
          "metadata": {},
          "execution_count": 25
        }
      ]
    },
    {
      "cell_type": "markdown",
      "source": [
        "Remarquez que le taux d'alcool est très déterminant afin d'avoir un vin de bonne qualité puisque les vins de bonne qualité ont un taux moyen de 11.00 et les vins de mauvaise qualité ont un taux moyen de 10.00. C'est quand même très déterminant"
      ],
      "metadata": {
        "id": "9MZ8gM1De_IL"
      }
    },
    {
      "cell_type": "markdown",
      "source": [
        "**Matrice de correlation**"
      ],
      "metadata": {
        "id": "QIkM9KI8gumm"
      }
    },
    {
      "cell_type": "code",
      "source": [
        "df.corr()"
      ],
      "metadata": {
        "colab": {
          "base_uri": "https://localhost:8080/",
          "height": 677
        },
        "id": "GF4Ufyu8gz8v",
        "outputId": "b57b6a5a-cefe-42ab-c76d-77f06e69c2c0"
      },
      "execution_count": 26,
      "outputs": [
        {
          "output_type": "execute_result",
          "data": {
            "text/plain": [
              "                      fixed acidity  volatile acidity  citric acid  \\\n",
              "fixed acidity              1.000000          0.219008     0.324436   \n",
              "volatile acidity           0.219008          1.000000    -0.377981   \n",
              "citric acid                0.324436         -0.377981     1.000000   \n",
              "residual sugar            -0.111981         -0.196011     0.142451   \n",
              "chlorides                  0.298195          0.377124     0.038998   \n",
              "free sulfur dioxide       -0.282735         -0.352557     0.133126   \n",
              "total sulfur dioxide      -0.329054         -0.414476     0.195242   \n",
              "density                    0.458910          0.271296     0.096154   \n",
              "pH                        -0.252700          0.261454    -0.329808   \n",
              "sulphates                  0.299568          0.225984     0.056197   \n",
              "alcohol                   -0.095452         -0.037640    -0.010493   \n",
              "quality                   -0.076743         -0.265699     0.085532   \n",
              "type_wine                  0.486740          0.653036    -0.187397   \n",
              "\n",
              "                      residual sugar  chlorides  free sulfur dioxide  \\\n",
              "fixed acidity              -0.111981   0.298195            -0.282735   \n",
              "volatile acidity           -0.196011   0.377124            -0.352557   \n",
              "citric acid                 0.142451   0.038998             0.133126   \n",
              "residual sugar              1.000000  -0.128940             0.402871   \n",
              "chlorides                  -0.128940   1.000000            -0.195045   \n",
              "free sulfur dioxide         0.402871  -0.195045             1.000000   \n",
              "total sulfur dioxide        0.495482  -0.279630             0.720934   \n",
              "density                     0.552517   0.362615             0.025717   \n",
              "pH                         -0.267320   0.044708            -0.145854   \n",
              "sulphates                  -0.185927   0.395593            -0.188457   \n",
              "alcohol                    -0.359415  -0.256916            -0.179838   \n",
              "quality                    -0.036980  -0.200666             0.055463   \n",
              "type_wine                  -0.348821   0.512678            -0.471644   \n",
              "\n",
              "                      total sulfur dioxide   density        pH  sulphates  \\\n",
              "fixed acidity                    -0.329054  0.458910 -0.252700   0.299568   \n",
              "volatile acidity                 -0.414476  0.271296  0.261454   0.225984   \n",
              "citric acid                       0.195242  0.096154 -0.329808   0.056197   \n",
              "residual sugar                    0.495482  0.552517 -0.267320  -0.185927   \n",
              "chlorides                        -0.279630  0.362615  0.044708   0.395593   \n",
              "free sulfur dioxide               0.720934  0.025717 -0.145854  -0.188457   \n",
              "total sulfur dioxide              1.000000  0.032395 -0.238413  -0.275727   \n",
              "density                           0.032395  1.000000  0.011686   0.259478   \n",
              "pH                               -0.238413  0.011686  1.000000   0.192123   \n",
              "sulphates                        -0.275727  0.259478  0.192123   1.000000   \n",
              "alcohol                          -0.265740 -0.686745  0.121248  -0.003029   \n",
              "quality                          -0.041385 -0.305858  0.019506   0.038485   \n",
              "type_wine                        -0.700357  0.390645  0.329129   0.487218   \n",
              "\n",
              "                       alcohol   quality  type_wine  \n",
              "fixed acidity        -0.095452 -0.076743   0.486740  \n",
              "volatile acidity     -0.037640 -0.265699   0.653036  \n",
              "citric acid          -0.010493  0.085532  -0.187397  \n",
              "residual sugar       -0.359415 -0.036980  -0.348821  \n",
              "chlorides            -0.256916 -0.200666   0.512678  \n",
              "free sulfur dioxide  -0.179838  0.055463  -0.471644  \n",
              "total sulfur dioxide -0.265740 -0.041385  -0.700357  \n",
              "density              -0.686745 -0.305858   0.390645  \n",
              "pH                    0.121248  0.019506   0.329129  \n",
              "sulphates            -0.003029  0.038485   0.487218  \n",
              "alcohol               1.000000  0.444319  -0.032970  \n",
              "quality               0.444319  1.000000  -0.119323  \n",
              "type_wine            -0.032970 -0.119323   1.000000  "
            ],
            "text/html": [
              "\n",
              "  <div id=\"df-34e4f30c-92be-42c7-ae51-7d9395578f05\">\n",
              "    <div class=\"colab-df-container\">\n",
              "      <div>\n",
              "<style scoped>\n",
              "    .dataframe tbody tr th:only-of-type {\n",
              "        vertical-align: middle;\n",
              "    }\n",
              "\n",
              "    .dataframe tbody tr th {\n",
              "        vertical-align: top;\n",
              "    }\n",
              "\n",
              "    .dataframe thead th {\n",
              "        text-align: right;\n",
              "    }\n",
              "</style>\n",
              "<table border=\"1\" class=\"dataframe\">\n",
              "  <thead>\n",
              "    <tr style=\"text-align: right;\">\n",
              "      <th></th>\n",
              "      <th>fixed acidity</th>\n",
              "      <th>volatile acidity</th>\n",
              "      <th>citric acid</th>\n",
              "      <th>residual sugar</th>\n",
              "      <th>chlorides</th>\n",
              "      <th>free sulfur dioxide</th>\n",
              "      <th>total sulfur dioxide</th>\n",
              "      <th>density</th>\n",
              "      <th>pH</th>\n",
              "      <th>sulphates</th>\n",
              "      <th>alcohol</th>\n",
              "      <th>quality</th>\n",
              "      <th>type_wine</th>\n",
              "    </tr>\n",
              "  </thead>\n",
              "  <tbody>\n",
              "    <tr>\n",
              "      <th>fixed acidity</th>\n",
              "      <td>1.000000</td>\n",
              "      <td>0.219008</td>\n",
              "      <td>0.324436</td>\n",
              "      <td>-0.111981</td>\n",
              "      <td>0.298195</td>\n",
              "      <td>-0.282735</td>\n",
              "      <td>-0.329054</td>\n",
              "      <td>0.458910</td>\n",
              "      <td>-0.252700</td>\n",
              "      <td>0.299568</td>\n",
              "      <td>-0.095452</td>\n",
              "      <td>-0.076743</td>\n",
              "      <td>0.486740</td>\n",
              "    </tr>\n",
              "    <tr>\n",
              "      <th>volatile acidity</th>\n",
              "      <td>0.219008</td>\n",
              "      <td>1.000000</td>\n",
              "      <td>-0.377981</td>\n",
              "      <td>-0.196011</td>\n",
              "      <td>0.377124</td>\n",
              "      <td>-0.352557</td>\n",
              "      <td>-0.414476</td>\n",
              "      <td>0.271296</td>\n",
              "      <td>0.261454</td>\n",
              "      <td>0.225984</td>\n",
              "      <td>-0.037640</td>\n",
              "      <td>-0.265699</td>\n",
              "      <td>0.653036</td>\n",
              "    </tr>\n",
              "    <tr>\n",
              "      <th>citric acid</th>\n",
              "      <td>0.324436</td>\n",
              "      <td>-0.377981</td>\n",
              "      <td>1.000000</td>\n",
              "      <td>0.142451</td>\n",
              "      <td>0.038998</td>\n",
              "      <td>0.133126</td>\n",
              "      <td>0.195242</td>\n",
              "      <td>0.096154</td>\n",
              "      <td>-0.329808</td>\n",
              "      <td>0.056197</td>\n",
              "      <td>-0.010493</td>\n",
              "      <td>0.085532</td>\n",
              "      <td>-0.187397</td>\n",
              "    </tr>\n",
              "    <tr>\n",
              "      <th>residual sugar</th>\n",
              "      <td>-0.111981</td>\n",
              "      <td>-0.196011</td>\n",
              "      <td>0.142451</td>\n",
              "      <td>1.000000</td>\n",
              "      <td>-0.128940</td>\n",
              "      <td>0.402871</td>\n",
              "      <td>0.495482</td>\n",
              "      <td>0.552517</td>\n",
              "      <td>-0.267320</td>\n",
              "      <td>-0.185927</td>\n",
              "      <td>-0.359415</td>\n",
              "      <td>-0.036980</td>\n",
              "      <td>-0.348821</td>\n",
              "    </tr>\n",
              "    <tr>\n",
              "      <th>chlorides</th>\n",
              "      <td>0.298195</td>\n",
              "      <td>0.377124</td>\n",
              "      <td>0.038998</td>\n",
              "      <td>-0.128940</td>\n",
              "      <td>1.000000</td>\n",
              "      <td>-0.195045</td>\n",
              "      <td>-0.279630</td>\n",
              "      <td>0.362615</td>\n",
              "      <td>0.044708</td>\n",
              "      <td>0.395593</td>\n",
              "      <td>-0.256916</td>\n",
              "      <td>-0.200666</td>\n",
              "      <td>0.512678</td>\n",
              "    </tr>\n",
              "    <tr>\n",
              "      <th>free sulfur dioxide</th>\n",
              "      <td>-0.282735</td>\n",
              "      <td>-0.352557</td>\n",
              "      <td>0.133126</td>\n",
              "      <td>0.402871</td>\n",
              "      <td>-0.195045</td>\n",
              "      <td>1.000000</td>\n",
              "      <td>0.720934</td>\n",
              "      <td>0.025717</td>\n",
              "      <td>-0.145854</td>\n",
              "      <td>-0.188457</td>\n",
              "      <td>-0.179838</td>\n",
              "      <td>0.055463</td>\n",
              "      <td>-0.471644</td>\n",
              "    </tr>\n",
              "    <tr>\n",
              "      <th>total sulfur dioxide</th>\n",
              "      <td>-0.329054</td>\n",
              "      <td>-0.414476</td>\n",
              "      <td>0.195242</td>\n",
              "      <td>0.495482</td>\n",
              "      <td>-0.279630</td>\n",
              "      <td>0.720934</td>\n",
              "      <td>1.000000</td>\n",
              "      <td>0.032395</td>\n",
              "      <td>-0.238413</td>\n",
              "      <td>-0.275727</td>\n",
              "      <td>-0.265740</td>\n",
              "      <td>-0.041385</td>\n",
              "      <td>-0.700357</td>\n",
              "    </tr>\n",
              "    <tr>\n",
              "      <th>density</th>\n",
              "      <td>0.458910</td>\n",
              "      <td>0.271296</td>\n",
              "      <td>0.096154</td>\n",
              "      <td>0.552517</td>\n",
              "      <td>0.362615</td>\n",
              "      <td>0.025717</td>\n",
              "      <td>0.032395</td>\n",
              "      <td>1.000000</td>\n",
              "      <td>0.011686</td>\n",
              "      <td>0.259478</td>\n",
              "      <td>-0.686745</td>\n",
              "      <td>-0.305858</td>\n",
              "      <td>0.390645</td>\n",
              "    </tr>\n",
              "    <tr>\n",
              "      <th>pH</th>\n",
              "      <td>-0.252700</td>\n",
              "      <td>0.261454</td>\n",
              "      <td>-0.329808</td>\n",
              "      <td>-0.267320</td>\n",
              "      <td>0.044708</td>\n",
              "      <td>-0.145854</td>\n",
              "      <td>-0.238413</td>\n",
              "      <td>0.011686</td>\n",
              "      <td>1.000000</td>\n",
              "      <td>0.192123</td>\n",
              "      <td>0.121248</td>\n",
              "      <td>0.019506</td>\n",
              "      <td>0.329129</td>\n",
              "    </tr>\n",
              "    <tr>\n",
              "      <th>sulphates</th>\n",
              "      <td>0.299568</td>\n",
              "      <td>0.225984</td>\n",
              "      <td>0.056197</td>\n",
              "      <td>-0.185927</td>\n",
              "      <td>0.395593</td>\n",
              "      <td>-0.188457</td>\n",
              "      <td>-0.275727</td>\n",
              "      <td>0.259478</td>\n",
              "      <td>0.192123</td>\n",
              "      <td>1.000000</td>\n",
              "      <td>-0.003029</td>\n",
              "      <td>0.038485</td>\n",
              "      <td>0.487218</td>\n",
              "    </tr>\n",
              "    <tr>\n",
              "      <th>alcohol</th>\n",
              "      <td>-0.095452</td>\n",
              "      <td>-0.037640</td>\n",
              "      <td>-0.010493</td>\n",
              "      <td>-0.359415</td>\n",
              "      <td>-0.256916</td>\n",
              "      <td>-0.179838</td>\n",
              "      <td>-0.265740</td>\n",
              "      <td>-0.686745</td>\n",
              "      <td>0.121248</td>\n",
              "      <td>-0.003029</td>\n",
              "      <td>1.000000</td>\n",
              "      <td>0.444319</td>\n",
              "      <td>-0.032970</td>\n",
              "    </tr>\n",
              "    <tr>\n",
              "      <th>quality</th>\n",
              "      <td>-0.076743</td>\n",
              "      <td>-0.265699</td>\n",
              "      <td>0.085532</td>\n",
              "      <td>-0.036980</td>\n",
              "      <td>-0.200666</td>\n",
              "      <td>0.055463</td>\n",
              "      <td>-0.041385</td>\n",
              "      <td>-0.305858</td>\n",
              "      <td>0.019506</td>\n",
              "      <td>0.038485</td>\n",
              "      <td>0.444319</td>\n",
              "      <td>1.000000</td>\n",
              "      <td>-0.119323</td>\n",
              "    </tr>\n",
              "    <tr>\n",
              "      <th>type_wine</th>\n",
              "      <td>0.486740</td>\n",
              "      <td>0.653036</td>\n",
              "      <td>-0.187397</td>\n",
              "      <td>-0.348821</td>\n",
              "      <td>0.512678</td>\n",
              "      <td>-0.471644</td>\n",
              "      <td>-0.700357</td>\n",
              "      <td>0.390645</td>\n",
              "      <td>0.329129</td>\n",
              "      <td>0.487218</td>\n",
              "      <td>-0.032970</td>\n",
              "      <td>-0.119323</td>\n",
              "      <td>1.000000</td>\n",
              "    </tr>\n",
              "  </tbody>\n",
              "</table>\n",
              "</div>\n",
              "      <button class=\"colab-df-convert\" onclick=\"convertToInteractive('df-34e4f30c-92be-42c7-ae51-7d9395578f05')\"\n",
              "              title=\"Convert this dataframe to an interactive table.\"\n",
              "              style=\"display:none;\">\n",
              "        \n",
              "  <svg xmlns=\"http://www.w3.org/2000/svg\" height=\"24px\"viewBox=\"0 0 24 24\"\n",
              "       width=\"24px\">\n",
              "    <path d=\"M0 0h24v24H0V0z\" fill=\"none\"/>\n",
              "    <path d=\"M18.56 5.44l.94 2.06.94-2.06 2.06-.94-2.06-.94-.94-2.06-.94 2.06-2.06.94zm-11 1L8.5 8.5l.94-2.06 2.06-.94-2.06-.94L8.5 2.5l-.94 2.06-2.06.94zm10 10l.94 2.06.94-2.06 2.06-.94-2.06-.94-.94-2.06-.94 2.06-2.06.94z\"/><path d=\"M17.41 7.96l-1.37-1.37c-.4-.4-.92-.59-1.43-.59-.52 0-1.04.2-1.43.59L10.3 9.45l-7.72 7.72c-.78.78-.78 2.05 0 2.83L4 21.41c.39.39.9.59 1.41.59.51 0 1.02-.2 1.41-.59l7.78-7.78 2.81-2.81c.8-.78.8-2.07 0-2.86zM5.41 20L4 18.59l7.72-7.72 1.47 1.35L5.41 20z\"/>\n",
              "  </svg>\n",
              "      </button>\n",
              "      \n",
              "  <style>\n",
              "    .colab-df-container {\n",
              "      display:flex;\n",
              "      flex-wrap:wrap;\n",
              "      gap: 12px;\n",
              "    }\n",
              "\n",
              "    .colab-df-convert {\n",
              "      background-color: #E8F0FE;\n",
              "      border: none;\n",
              "      border-radius: 50%;\n",
              "      cursor: pointer;\n",
              "      display: none;\n",
              "      fill: #1967D2;\n",
              "      height: 32px;\n",
              "      padding: 0 0 0 0;\n",
              "      width: 32px;\n",
              "    }\n",
              "\n",
              "    .colab-df-convert:hover {\n",
              "      background-color: #E2EBFA;\n",
              "      box-shadow: 0px 1px 2px rgba(60, 64, 67, 0.3), 0px 1px 3px 1px rgba(60, 64, 67, 0.15);\n",
              "      fill: #174EA6;\n",
              "    }\n",
              "\n",
              "    [theme=dark] .colab-df-convert {\n",
              "      background-color: #3B4455;\n",
              "      fill: #D2E3FC;\n",
              "    }\n",
              "\n",
              "    [theme=dark] .colab-df-convert:hover {\n",
              "      background-color: #434B5C;\n",
              "      box-shadow: 0px 1px 3px 1px rgba(0, 0, 0, 0.15);\n",
              "      filter: drop-shadow(0px 1px 2px rgba(0, 0, 0, 0.3));\n",
              "      fill: #FFFFFF;\n",
              "    }\n",
              "  </style>\n",
              "\n",
              "      <script>\n",
              "        const buttonEl =\n",
              "          document.querySelector('#df-34e4f30c-92be-42c7-ae51-7d9395578f05 button.colab-df-convert');\n",
              "        buttonEl.style.display =\n",
              "          google.colab.kernel.accessAllowed ? 'block' : 'none';\n",
              "\n",
              "        async function convertToInteractive(key) {\n",
              "          const element = document.querySelector('#df-34e4f30c-92be-42c7-ae51-7d9395578f05');\n",
              "          const dataTable =\n",
              "            await google.colab.kernel.invokeFunction('convertToInteractive',\n",
              "                                                     [key], {});\n",
              "          if (!dataTable) return;\n",
              "\n",
              "          const docLinkHtml = 'Like what you see? Visit the ' +\n",
              "            '<a target=\"_blank\" href=https://colab.research.google.com/notebooks/data_table.ipynb>data table notebook</a>'\n",
              "            + ' to learn more about interactive tables.';\n",
              "          element.innerHTML = '';\n",
              "          dataTable['output_type'] = 'display_data';\n",
              "          await google.colab.output.renderOutput(dataTable, element);\n",
              "          const docLink = document.createElement('div');\n",
              "          docLink.innerHTML = docLinkHtml;\n",
              "          element.appendChild(docLink);\n",
              "        }\n",
              "      </script>\n",
              "    </div>\n",
              "  </div>\n",
              "  "
            ]
          },
          "metadata": {},
          "execution_count": 26
        }
      ]
    },
    {
      "cell_type": "code",
      "source": [
        "sns.heatmap(df.corr())"
      ],
      "metadata": {
        "colab": {
          "base_uri": "https://localhost:8080/",
          "height": 569
        },
        "id": "RrHDPBAhg3VZ",
        "outputId": "09e5da53-63c5-4c5b-b435-0501d644a5c0"
      },
      "execution_count": 27,
      "outputs": [
        {
          "output_type": "execute_result",
          "data": {
            "text/plain": [
              "<Axes: >"
            ]
          },
          "metadata": {},
          "execution_count": 27
        },
        {
          "output_type": "display_data",
          "data": {
            "text/plain": [
              "<Figure size 640x480 with 2 Axes>"
            ],
            "image/png": "[encoded data removed]"
          },
          "metadata": {}
        }
      ]
    },
    {
      "cell_type": "code",
      "source": [
        "plt.figure(figsize=(12,12))\n",
        "mask = np.triu(np.ones_like(df.corr(), dtype=bool))\n",
        "sns.heatmap(df.corr(), mask=mask, center=0, cmap='RdBu', linewidths=1, annot=True)\n",
        "plt.title('Coefficient de corrélation de Pearson entre variables')\n",
        "plt.show()"
      ],
      "metadata": {
        "colab": {
          "base_uri": "https://localhost:8080/",
          "height": 703
        },
        "id": "VvMzMm7whRzk",
        "outputId": "1aa3bc02-9bb9-468a-ab59-3b7d2001429a"
      },
      "execution_count": 29,
      "outputs": [
        {
          "output_type": "display_data",
          "data": {
            "text/plain": [
              "<Figure size 1200x1200 with 2 Axes>"
            ],
            "image/png": "[encoded data removed]"
          },
          "metadata": {}
        }
      ]
    },
    {
      "cell_type": "markdown",
      "source": [
        "### **Prétraitement**"
      ],
      "metadata": {
        "id": "ww0IFa1MGjjV"
      }
    },
    {
      "cell_type": "code",
      "source": [
        " #Comment par importer le module train_test_split\n",
        " from sklearn.model_selection import train_test_split"
      ],
      "metadata": {
        "id": "Js4lhl-3iWky"
      },
      "execution_count": 31,
      "outputs": []
    },
    {
      "cell_type": "markdown",
      "source": [
        "Nous allons separer notre data set afin d'avoir nos données composer des variables indépendante (X) et nos données de la variable dépendante (y)"
      ],
      "metadata": {
        "id": "5ryFvUC8HUU0"
      }
    },
    {
      "cell_type": "code",
      "source": [
        "X = df.drop(\"quality\",axis=1)\n",
        "y = df[\"quality\"]"
      ],
      "metadata": {
        "id": "ShrOZ_UcG_wT"
      },
      "execution_count": 32,
      "outputs": []
    },
    {
      "cell_type": "markdown",
      "source": [
        "Nous allons également creer une graine aléatoire (seed) pour s'assurer de la reproductibilié de nos resultats car il s'agit d'une division aléatoire. Il faut donc que nous puissions nous assurer de toujours avoir le même ensemble de test et d'entrainement qui sont retourné lorque nous relançons notre environnement."
      ],
      "metadata": {
        "id": "UBUf5tOTH9a6"
      }
    },
    {
      "cell_type": "code",
      "source": [
        "seed = 33\n",
        "X_train, X_test, y_train,y_test = train_test_split(\n",
        "    X,y, random_state=seed, test_size=0.2\n",
        ")\n",
        "\n",
        "print(X_train.shape, y_train.shape, X_test.shape, y_test.shape)"
      ],
      "metadata": {
        "colab": {
          "base_uri": "https://localhost:8080/"
        },
        "id": "e8GxTnjZH5qB",
        "outputId": "dba2e40b-1001-4e83-968f-59a7f9e9cbd9"
      },
      "execution_count": 33,
      "outputs": [
        {
          "output_type": "stream",
          "name": "stdout",
          "text": [
            "(5197, 12) (5197,) (1300, 12) (1300,)\n"
          ]
        }
      ]
    },
    {
      "cell_type": "markdown",
      "source": [
        "## **Mise à l'echelle ou une standardization**"
      ],
      "metadata": {
        "id": "Fch4aIaHJfpM"
      }
    },
    {
      "cell_type": "code",
      "source": [
        "scaler = StandardScaler()\n",
        "X_train_scaled = scaler.fit_transform(X_train)\n",
        "X_test_scaled = scaler.transform(X_test)"
      ],
      "metadata": {
        "id": "UGNdkZkPJGES"
      },
      "execution_count": 34,
      "outputs": []
    },
    {
      "cell_type": "code",
      "source": [
        "X_train_scaled"
      ],
      "metadata": {
        "colab": {
          "base_uri": "https://localhost:8080/"
        },
        "id": "_UN4Kl5NKDhP",
        "outputId": "fab91fdb-1373-418c-a33e-c36776529cbb"
      },
      "execution_count": 35,
      "outputs": [
        {
          "output_type": "execute_result",
          "data": {
            "text/plain": [
              "array([[ 0.38106424, -0.42333744,  0.152051  , ..., -0.35328639,\n",
              "         1.35085185, -0.57046226],\n",
              "       [ 1.62710737,  1.9359534 , -0.40374927, ..., -0.75380179,\n",
              "        -0.74429444,  1.75296435],\n",
              "       [-1.56587815,  0.15882524, -1.65429985, ..., -0.9540595 ,\n",
              "        -0.49287688, -0.57046226],\n",
              "       ...,\n",
              "       [ 1.23771889,  0.80226819,  1.19417649, ...,  0.44774442,\n",
              "        -0.57668273,  1.75296435],\n",
              "       [-1.33224506, -0.66845857, -0.89007449, ..., -0.68704923,\n",
              "        -0.07384762, -0.57046226],\n",
              "       [ 0.30318655, -0.05565575,  0.22152603, ..., -0.9540595 ,\n",
              "         1.267046  , -0.57046226]])"
            ]
          },
          "metadata": {},
          "execution_count": 35
        }
      ]
    },
    {
      "cell_type": "markdown",
      "source": [
        "Nous devons éffectuer une validation croiser afin de faire le choix sur le modèle que nous allons utiliser en utilisant l'erreur quadratique moyen.\n",
        "\n",
        "Le cross_validation_score nous permet de nous assurer que toute les observations apparaissent dans les données d'entrainement et de test ! Le metrique d'evaluation est donc fiable.\n",
        "\n",
        "Pour mieux comprendre ce concept, il s'agit d'un processus où l'on divise les données en données d'entrainement et de test ! Le cross validation s'assure que toutes les observations des nos données puissent se retrouver dans les données d'entrainement et de test ! Ainsi, nous somme sûre la metrique d'évaluation est fiable"
      ],
      "metadata": {
        "id": "nnppd3nVLBKd"
      }
    },
    {
      "cell_type": "markdown",
      "source": [
        "![Screenshot 2023-07-10 013129.png](data:image/png;base64,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)"
      ],
      "metadata": {
        "id": "icgtVuCFNMO3"
      }
    },
    {
      "cell_type": "markdown",
      "source": [
        "![Screenshot 2023-07-10 013237.png](data:image/png;base64,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)"
      ],
      "metadata": {
        "id": "MNUwnwzjNmZd"
      }
    },
    {
      "cell_type": "code",
      "source": [
        "lr_cve = cross_val_score(\n",
        "    LinearRegression(),\n",
        "    X_train_scaled,\n",
        "    y_train,\n",
        "    cv=3,\n",
        "    scoring= \"neg_root_mean_squared_error\"\n",
        "\n",
        ")\n",
        "\n",
        "\n",
        "rf_cve = cross_val_score(\n",
        "    RandomForestRegressor(random_state=seed),\n",
        "    X_train_scaled,\n",
        "    y_train,\n",
        "    cv=3,\n",
        "    scoring= \"neg_root_mean_squared_error\"\n",
        "\n",
        ")\n",
        "\n",
        "svm_cve = cross_val_score(\n",
        "    SVR(),\n",
        "    X_train_scaled,\n",
        "    y_train,\n",
        "    cv=3,\n",
        "    scoring= \"neg_root_mean_squared_error\"\n",
        "\n",
        ")"
      ],
      "metadata": {
        "id": "wYSszUMmKFo2"
      },
      "execution_count": 37,
      "outputs": []
    },
    {
      "cell_type": "code",
      "source": [
        "lr_cve"
      ],
      "metadata": {
        "colab": {
          "base_uri": "https://localhost:8080/"
        },
        "id": "EHVDAa-NOMIF",
        "outputId": "40e5d126-a20b-442f-83d0-5ecf24f8a441"
      },
      "execution_count": 38,
      "outputs": [
        {
          "output_type": "execute_result",
          "data": {
            "text/plain": [
              "array([-0.73253584, -0.73110956, -0.72582852])"
            ]
          },
          "metadata": {},
          "execution_count": 38
        }
      ]
    },
    {
      "cell_type": "code",
      "source": [
        "rf_cve"
      ],
      "metadata": {
        "colab": {
          "base_uri": "https://localhost:8080/"
        },
        "id": "rE25VI7HOT6N",
        "outputId": "871ad870-26f8-4838-c96a-28a133d006f2"
      },
      "execution_count": 39,
      "outputs": [
        {
          "output_type": "execute_result",
          "data": {
            "text/plain": [
              "array([-0.62019518, -0.63840678, -0.6369258 ])"
            ]
          },
          "metadata": {},
          "execution_count": 39
        }
      ]
    },
    {
      "cell_type": "code",
      "source": [
        "svm_cve"
      ],
      "metadata": {
        "colab": {
          "base_uri": "https://localhost:8080/"
        },
        "id": "hIafcG4VOXSG",
        "outputId": "3b90d98c-d2dd-4c56-a111-097e19345f12"
      },
      "execution_count": 40,
      "outputs": [
        {
          "output_type": "execute_result",
          "data": {
            "text/plain": [
              "array([-0.67342018, -0.68137323, -0.67191659])"
            ]
          },
          "metadata": {},
          "execution_count": 40
        }
      ]
    },
    {
      "cell_type": "code",
      "source": [
        "print(\"RF : \", rf_cve.mean(), \"LR : \",lr_cve.mean(), \"SVM : \", svm_cve.mean())"
      ],
      "metadata": {
        "colab": {
          "base_uri": "https://localhost:8080/"
        },
        "id": "0Yq6TLMhOYsd",
        "outputId": "a3075d07-68bc-40f1-ac54-23f318ea66e2"
      },
      "execution_count": 41,
      "outputs": [
        {
          "output_type": "stream",
          "name": "stdout",
          "text": [
            "RF :  -0.6318425906491011 LR :  -0.7298246371416165 SVM :  -0.6755700011223958\n"
          ]
        }
      ]
    },
    {
      "cell_type": "markdown",
      "source": [
        "D'après les resultats que nous avaons, le modèle qui semble être le plus performant est celle du RandomForest car l'erreur quadratique moyen est plus optimale"
      ],
      "metadata": {
        "id": "1g0QxWt9O-oA"
      }
    },
    {
      "cell_type": "markdown",
      "source": [
        "## **Construire le modèle**"
      ],
      "metadata": {
        "id": "BPMglBSuPPfH"
      }
    },
    {
      "cell_type": "code",
      "source": [
        "model = RandomForestRegressor(random_state=seed)\n",
        "model.fit(X_train_scaled, y_train)"
      ],
      "metadata": {
        "colab": {
          "base_uri": "https://localhost:8080/",
          "height": 51
        },
        "id": "ESBv8rIZO2zs",
        "outputId": "af275925-6015-405e-86c7-3be090f06fee"
      },
      "execution_count": 42,
      "outputs": [
        {
          "output_type": "execute_result",
          "data": {
            "text/plain": [
              "RandomForestRegressor(random_state=33)"
            ],
            "text/html": [
              "<style>#sk-container-id-1 {color: black;background-color: white;}#sk-container-id-1 pre{padding: 0;}#sk-container-id-1 div.sk-toggleable {background-color: white;}#sk-container-id-1 label.sk-toggleable__label {cursor: pointer;display: block;width: 100%;margin-bottom: 0;padding: 0.3em;box-sizing: border-box;text-align: center;}#sk-container-id-1 label.sk-toggleable__label-arrow:before {content: \"▸\";float: left;margin-right: 0.25em;color: #696969;}#sk-container-id-1 label.sk-toggleable__label-arrow:hover:before {color: black;}#sk-container-id-1 div.sk-estimator:hover label.sk-toggleable__label-arrow:before {color: black;}#sk-container-id-1 div.sk-toggleable__content {max-height: 0;max-width: 0;overflow: hidden;text-align: left;background-color: #f0f8ff;}#sk-container-id-1 div.sk-toggleable__content pre {margin: 0.2em;color: black;border-radius: 0.25em;background-color: #f0f8ff;}#sk-container-id-1 input.sk-toggleable__control:checked~div.sk-toggleable__content {max-height: 200px;max-width: 100%;overflow: auto;}#sk-container-id-1 input.sk-toggleable__control:checked~label.sk-toggleable__label-arrow:before {content: \"▾\";}#sk-container-id-1 div.sk-estimator input.sk-toggleable__control:checked~label.sk-toggleable__label {background-color: #d4ebff;}#sk-container-id-1 div.sk-label input.sk-toggleable__control:checked~label.sk-toggleable__label {background-color: #d4ebff;}#sk-container-id-1 input.sk-hidden--visually {border: 0;clip: rect(1px 1px 1px 1px);clip: rect(1px, 1px, 1px, 1px);height: 1px;margin: -1px;overflow: hidden;padding: 0;position: absolute;width: 1px;}#sk-container-id-1 div.sk-estimator {font-family: monospace;background-color: #f0f8ff;border: 1px dotted black;border-radius: 0.25em;box-sizing: border-box;margin-bottom: 0.5em;}#sk-container-id-1 div.sk-estimator:hover {background-color: #d4ebff;}#sk-container-id-1 div.sk-parallel-item::after {content: \"\";width: 100%;border-bottom: 1px solid gray;flex-grow: 1;}#sk-container-id-1 div.sk-label:hover label.sk-toggleable__label {background-color: #d4ebff;}#sk-container-id-1 div.sk-serial::before {content: \"\";position: absolute;border-left: 1px solid gray;box-sizing: border-box;top: 0;bottom: 0;left: 50%;z-index: 0;}#sk-container-id-1 div.sk-serial {display: flex;flex-direction: column;align-items: center;background-color: white;padding-right: 0.2em;padding-left: 0.2em;position: relative;}#sk-container-id-1 div.sk-item {position: relative;z-index: 1;}#sk-container-id-1 div.sk-parallel {display: flex;align-items: stretch;justify-content: center;background-color: white;position: relative;}#sk-container-id-1 div.sk-item::before, #sk-container-id-1 div.sk-parallel-item::before {content: \"\";position: absolute;border-left: 1px solid gray;box-sizing: border-box;top: 0;bottom: 0;left: 50%;z-index: -1;}#sk-container-id-1 div.sk-parallel-item {display: flex;flex-direction: column;z-index: 1;position: relative;background-color: white;}#sk-container-id-1 div.sk-parallel-item:first-child::after {align-self: flex-end;width: 50%;}#sk-container-id-1 div.sk-parallel-item:last-child::after {align-self: flex-start;width: 50%;}#sk-container-id-1 div.sk-parallel-item:only-child::after {width: 0;}#sk-container-id-1 div.sk-dashed-wrapped {border: 1px dashed gray;margin: 0 0.4em 0.5em 0.4em;box-sizing: border-box;padding-bottom: 0.4em;background-color: white;}#sk-container-id-1 div.sk-label label {font-family: monospace;font-weight: bold;display: inline-block;line-height: 1.2em;}#sk-container-id-1 div.sk-label-container {text-align: center;}#sk-container-id-1 div.sk-container {/* jupyter's `normalize.less` sets `[hidden] { display: none; }` but bootstrap.min.css set `[hidden] { display: none !important; }` so we also need the `!important` here to be able to override the default hidden behavior on the sphinx rendered scikit-learn.org. See: https://github.com/scikit-learn/scikit-learn/issues/21755 */display: inline-block !important;position: relative;}#sk-container-id-1 div.sk-text-repr-fallback {display: none;}</style><div id=\"sk-container-id-1\" class=\"sk-top-container\"><div class=\"sk-text-repr-fallback\"><pre>RandomForestRegressor(random_state=33)</pre><b>In a Jupyter environment, please rerun this cell to show the HTML representation or trust the notebook. <br />On GitHub, the HTML representation is unable to render, please try loading this page with nbviewer.org.</b></div><div class=\"sk-container\" hidden><div class=\"sk-item\"><div class=\"sk-estimator sk-toggleable\"><input class=\"sk-toggleable__control sk-hidden--visually\" id=\"sk-estimator-id-1\" type=\"checkbox\" checked><label for=\"sk-estimator-id-1\" class=\"sk-toggleable__label sk-toggleable__label-arrow\">RandomForestRegressor</label><div class=\"sk-toggleable__content\"><pre>RandomForestRegressor(random_state=33)</pre></div></div></div></div></div>"
            ]
          },
          "metadata": {},
          "execution_count": 42
        }
      ]
    },
    {
      "cell_type": "markdown",
      "source": [
        "## **Prediction sur les données de test standardize**"
      ],
      "metadata": {
        "id": "zw-FU6hYQUqD"
      }
    },
    {
      "cell_type": "code",
      "source": [
        "y_pred = model.predict(X_test_scaled)\n",
        "y_pred"
      ],
      "metadata": {
        "colab": {
          "base_uri": "https://localhost:8080/"
        },
        "id": "14mb_gdeQH_V",
        "outputId": "8857ab82-0be5-4d2a-cab7-2eee9d6f7690"
      },
      "execution_count": 43,
      "outputs": [
        {
          "output_type": "execute_result",
          "data": {
            "text/plain": [
              "array([6.4 , 5.82, 6.25, ..., 5.38, 5.09, 4.98])"
            ]
          },
          "metadata": {},
          "execution_count": 43
        }
      ]
    },
    {
      "cell_type": "markdown",
      "source": [
        "## **Evaluation du modèle avec l'erreur quadratique moyen**"
      ],
      "metadata": {
        "id": "a-a9VIk1Q0N1"
      }
    },
    {
      "cell_type": "code",
      "source": [
        "mean_squared_error(y_test, y_pred, squared=False)"
      ],
      "metadata": {
        "colab": {
          "base_uri": "https://localhost:8080/"
        },
        "id": "Lo86hdvdQRPh",
        "outputId": "91f9fb17-33b4-4023-a433-7f201e3c0d76"
      },
      "execution_count": 44,
      "outputs": [
        {
          "output_type": "execute_result",
          "data": {
            "text/plain": [
              "0.6307860176002635"
            ]
          },
          "metadata": {},
          "execution_count": 44
        }
      ]
    },
    {
      "cell_type": "markdown",
      "source": [
        "Chaque value (score) prédit par notre modèle, le véritable score se situe entre cetta **valeur** - **mean_squared_error** et cette **valeur** + mean_squared_error"
      ],
      "metadata": {
        "id": "1mqnVwrtRFZe"
      }
    },
    {
      "cell_type": "markdown",
      "source": [
        "## **Attribut importante et conclusion**"
      ],
      "metadata": {
        "id": "HWKUVkVNTp4A"
      }
    },
    {
      "cell_type": "markdown",
      "source": [
        "C'est la partie la plus important en entreprise car c'est la partie qui repond à la problématique business. L'objecctif que nous nous sommes fixés c'est de trouver les attributs necessaires pour favbriquer un vin de qualité afin d'aider les producteurs à optimiser leurs efforts personnelles."
      ],
      "metadata": {
        "id": "h4Sb5gYoT1OI"
      }
    },
    {
      "cell_type": "markdown",
      "source": [
        "L'objectif c'est de trouver les paramètres physico-chimiques les plus impactant sur la qualité du vin afin d'aiser les producteurs à jouer avec ses paramètres aux niveaux de leurs échantillons aux labo afin d'avoir un vin de qualité."
      ],
      "metadata": {
        "id": "LAIv8JBzUNYl"
      }
    },
    {
      "cell_type": "markdown",
      "source": [
        "**Nous pouvons visualiser l'importance de chaque variable indépendante à la mise en place d'un vin de qualité**"
      ],
      "metadata": {
        "id": "FcinBKNXVWqG"
      }
    },
    {
      "cell_type": "code",
      "source": [
        "model.feature_importances_"
      ],
      "metadata": {
        "colab": {
          "base_uri": "https://localhost:8080/"
        },
        "id": "zHUOSJA8RDXN",
        "outputId": "2d6a77bc-ef57-487b-fce1-c272294ef87a"
      },
      "execution_count": 45,
      "outputs": [
        {
          "output_type": "execute_result",
          "data": {
            "text/plain": [
              "array([0.05438907, 0.128995  , 0.06012551, 0.07411797, 0.06590424,\n",
              "       0.08302336, 0.0727574 , 0.05769381, 0.06995162, 0.07491607,\n",
              "       0.25618198, 0.00194397])"
            ]
          },
          "metadata": {},
          "execution_count": 45
        }
      ]
    },
    {
      "cell_type": "code",
      "source": [
        "variable_importance = pd.Series(model.feature_importances_, index=X.columns).sort_values(ascending=False)*100\n",
        "variable_importance"
      ],
      "metadata": {
        "colab": {
          "base_uri": "https://localhost:8080/"
        },
        "id": "sOC2z9-8U3j8",
        "outputId": "6880196d-83a7-44d9-87d9-f25414bc8c3c"
      },
      "execution_count": 62,
      "outputs": [
        {
          "output_type": "execute_result",
          "data": {
            "text/plain": [
              "alcohol                 25.618198\n",
              "volatile acidity        12.899500\n",
              "free sulfur dioxide      8.302336\n",
              "sulphates                7.491607\n",
              "residual sugar           7.411797\n",
              "total sulfur dioxide     7.275740\n",
              "pH                       6.995162\n",
              "chlorides                6.590424\n",
              "citric acid              6.012551\n",
              "density                  5.769381\n",
              "fixed acidity            5.438907\n",
              "type_wine                0.194397\n",
              "dtype: float64"
            ]
          },
          "metadata": {},
          "execution_count": 62
        }
      ]
    },
    {
      "cell_type": "code",
      "source": [
        "plt.figure(figsize=(15, 9))\n",
        "sns.barplot(x=variable_importance, y=variable_importance.index)\n",
        "plt.title(\"Variable impactant la qualité du vin par ordre decroissante\")\n",
        "plt.show()"
      ],
      "metadata": {
        "colab": {
          "base_uri": "https://localhost:8080/",
          "height": 388
        },
        "id": "w4_JoSzqVHLD",
        "outputId": "b6c57216-460a-40a8-99fa-a653f1db7c3c"
      },
      "execution_count": 71,
      "outputs": [
        {
          "output_type": "display_data",
          "data": {
            "text/plain": [
              "<Figure size 1500x900 with 1 Axes>"
            ],
            "image/png": "[encoded data removed]"
          },
          "metadata": {}
        }
      ]
    },
    {
      "cell_type": "markdown",
      "source": [
        "Les variable indépendantes qui sont le plus importantes dans la qualité d'un vi sont les suivantes :\n",
        "\n",
        "\n",
        "* alcohol\n",
        "* volatile acidity\n",
        "* free sulfur dioxide\n",
        "\n"
      ],
      "metadata": {
        "id": "3IIcynp6W30k"
      }
    },
    {
      "cell_type": "markdown",
      "source": [
        "**Done By Spaak Jobrigh::**"
      ],
      "metadata": {
        "id": "GPADQzQRYBla"
      }
    },
    {
      "cell_type": "code",
      "source": [],
      "metadata": {
        "id": "FffNFjV7Vvl2"
      },
      "execution_count": null,
      "outputs": []
    }
  ]
}